{
  "nbformat": 4,
  "nbformat_minor": 0,
  "metadata": {
    "colab": {
      "provenance": [],
      "gpuType": "T4"
    },
    "kernelspec": {
      "name": "python3",
      "display_name": "Python 3"
    },
    "language_info": {
      "name": "python"
    },
    "accelerator": "GPU"
  },
  "cells": [
    {
      "cell_type": "markdown",
      "source": [
        "**This code notebook tries to generate data from latent diffusion model. It employs MONAI Generative Model. LDM was trained to generate synthetic XRay hand images from MEDNIST. This code was done during tutorial session of MICCAI 2025 summer school.**"
      ],
      "metadata": {
        "id": "OcyOGdRn4FTI"
      }
    },
    {
      "cell_type": "code",
      "execution_count": null,
      "metadata": {
        "colab": {
          "base_uri": "https://localhost:8080/"
        },
        "id": "WhDfUPdl0W0Y",
        "outputId": "ce56987d-6d06-4596-b676-d9a51490763e"
      },
      "outputs": [
        {
          "output_type": "stream",
          "name": "stdout",
          "text": [
            "Traceback (most recent call last):\n",
            "  File \"<string>\", line 1, in <module>\n",
            "ModuleNotFoundError: No module named 'monai'\n",
            "\u001b[2K   \u001b[90m━━━━━━━━━━━━━━━━━━━━━━━━━━━━━━━━━━━━━━━━\u001b[0m \u001b[32m363.4/363.4 MB\u001b[0m \u001b[31m3.8 MB/s\u001b[0m eta \u001b[36m0:00:00\u001b[0m\n",
            "\u001b[2K   \u001b[90m━━━━━━━━━━━━━━━━━━━━━━━━━━━━━━━━━━━━━━━━\u001b[0m \u001b[32m13.8/13.8 MB\u001b[0m \u001b[31m127.5 MB/s\u001b[0m eta \u001b[36m0:00:00\u001b[0m\n",
            "\u001b[2K   \u001b[90m━━━━━━━━━━━━━━━━━━━━━━━━━━━━━━━━━━━━━━━━\u001b[0m \u001b[32m24.6/24.6 MB\u001b[0m \u001b[31m96.1 MB/s\u001b[0m eta \u001b[36m0:00:00\u001b[0m\n",
            "\u001b[2K   \u001b[90m━━━━━━━━━━━━━━━━━━━━━━━━━━━━━━━━━━━━━━━━\u001b[0m \u001b[32m883.7/883.7 kB\u001b[0m \u001b[31m58.8 MB/s\u001b[0m eta \u001b[36m0:00:00\u001b[0m\n",
            "\u001b[2K   \u001b[90m━━━━━━━━━━━━━━━━━━━━━━━━━━━━━━━━━━━━━━━━\u001b[0m \u001b[32m664.8/664.8 MB\u001b[0m \u001b[31m2.0 MB/s\u001b[0m eta \u001b[36m0:00:00\u001b[0m\n",
            "\u001b[2K   \u001b[90m━━━━━━━━━━━━━━━━━━━━━━━━━━━━━━━━━━━━━━━━\u001b[0m \u001b[32m211.5/211.5 MB\u001b[0m \u001b[31m6.1 MB/s\u001b[0m eta \u001b[36m0:00:00\u001b[0m\n",
            "\u001b[2K   \u001b[90m━━━━━━━━━━━━━━━━━━━━━━━━━━━━━━━━━━━━━━━━\u001b[0m \u001b[32m56.3/56.3 MB\u001b[0m \u001b[31m13.1 MB/s\u001b[0m eta \u001b[36m0:00:00\u001b[0m\n",
            "\u001b[2K   \u001b[90m━━━━━━━━━━━━━━━━━━━━━━━━━━━━━━━━━━━━━━━━\u001b[0m \u001b[32m127.9/127.9 MB\u001b[0m \u001b[31m7.1 MB/s\u001b[0m eta \u001b[36m0:00:00\u001b[0m\n",
            "\u001b[2K   \u001b[90m━━━━━━━━━━━━━━━━━━━━━━━━━━━━━━━━━━━━━━━━\u001b[0m \u001b[32m207.5/207.5 MB\u001b[0m \u001b[31m5.3 MB/s\u001b[0m eta \u001b[36m0:00:00\u001b[0m\n",
            "\u001b[2K   \u001b[90m━━━━━━━━━━━━━━━━━━━━━━━━━━━━━━━━━━━━━━━━\u001b[0m \u001b[32m21.1/21.1 MB\u001b[0m \u001b[31m104.5 MB/s\u001b[0m eta \u001b[36m0:00:00\u001b[0m\n",
            "\u001b[2K   \u001b[90m━━━━━━━━━━━━━━━━━━━━━━━━━━━━━━━━━━━━━━━━\u001b[0m \u001b[32m2.7/2.7 MB\u001b[0m \u001b[31m63.6 MB/s\u001b[0m eta \u001b[36m0:00:00\u001b[0m\n",
            "\u001b[?25h"
          ]
        }
      ],
      "source": [
        "!python -c \"import monai\" || pip install -q \"monai-weekly[tqdm]\"\n",
        "!python -c \"import matplotlib\" || pip install -q matplotlib\n",
        "%matplotlib inline"
      ]
    },
    {
      "cell_type": "code",
      "source": [
        "import monai\n",
        "print(f\"MONAI version: {monai.__version__}\")"
      ],
      "metadata": {
        "colab": {
          "base_uri": "https://localhost:8080/"
        },
        "id": "SsncloTs3rT6",
        "outputId": "8a5ad004-e729-4e87-f48c-19d9b2ed7bbc"
      },
      "execution_count": null,
      "outputs": [
        {
          "output_type": "stream",
          "name": "stdout",
          "text": [
            "MONAI version: 1.6.dev2529\n"
          ]
        }
      ]
    },
    {
      "cell_type": "markdown",
      "source": [
        "Neccessary Imports"
      ],
      "metadata": {
        "id": "CM3KrOOG5Djr"
      }
    },
    {
      "cell_type": "code",
      "source": [
        "import os\n",
        "import shutil\n",
        "import tempfile"
      ],
      "metadata": {
        "id": "wu-wRUcq5LZv"
      },
      "execution_count": null,
      "outputs": []
    },
    {
      "cell_type": "code",
      "source": [
        "import matplotlib.pyplot as plt\n",
        "import numpy as np\n",
        "import torch\n",
        "import torch.nn.functional as F"
      ],
      "metadata": {
        "id": "CM2nNiMK5PM8"
      },
      "execution_count": 2,
      "outputs": []
    },
    {
      "cell_type": "code",
      "source": [
        "from monai import transforms\n",
        "from monai.apps import MedNISTDataset\n",
        "from monai.config import print_config\n",
        "from monai.data import DataLoader, Dataset\n",
        "from monai.utils import first, set_determinism\n",
        "from torch.cuda.amp import GradScaler, autocast\n",
        "from tqdm import tqdm"
      ],
      "metadata": {
        "id": "rTgucGMw5STy"
      },
      "execution_count": null,
      "outputs": []
    },
    {
      "cell_type": "code",
      "source": [
        "!pip install -q \"monai-generative\" --upgrade"
      ],
      "metadata": {
        "id": "mJKncUA95mCJ",
        "colab": {
          "base_uri": "https://localhost:8080/"
        },
        "outputId": "dc0da693-0ca6-432f-e61f-2b6e0247c79d"
      },
      "execution_count": null,
      "outputs": [
        {
          "output_type": "stream",
          "name": "stdout",
          "text": [
            "\u001b[?25l   \u001b[90m━━━━━━━━━━━━━━━━━━━━━━━━━━━━━━━━━━━━━━━━\u001b[0m \u001b[32m0.0/176.2 kB\u001b[0m \u001b[31m?\u001b[0m eta \u001b[36m-:--:--\u001b[0m\r\u001b[2K   \u001b[90m━━━━━━━━━━━━━━━━━━━━━━━━━━━━━━━━━━━━━━━━\u001b[0m \u001b[32m176.2/176.2 kB\u001b[0m \u001b[31m12.9 MB/s\u001b[0m eta \u001b[36m0:00:00\u001b[0m\n",
            "\u001b[?25h\u001b[?25l   \u001b[90m━━━━━━━━━━━━━━━━━━━━━━━━━━━━━━━━━━━━━━━━\u001b[0m \u001b[32m0.0/2.7 MB\u001b[0m \u001b[31m?\u001b[0m eta \u001b[36m-:--:--\u001b[0m\r\u001b[2K   \u001b[91m━━━━━━━━━━━━━━━━━━━━━━━━━━━━━━━━━━━━━━━\u001b[0m\u001b[91m╸\u001b[0m \u001b[32m2.7/2.7 MB\u001b[0m \u001b[31m134.0 MB/s\u001b[0m eta \u001b[36m0:00:01\u001b[0m\r\u001b[2K   \u001b[90m━━━━━━━━━━━━━━━━━━━━━━━━━━━━━━━━━━━━━━━━\u001b[0m \u001b[32m2.7/2.7 MB\u001b[0m \u001b[31m71.0 MB/s\u001b[0m eta \u001b[36m0:00:00\u001b[0m\n",
            "\u001b[?25h"
          ]
        }
      ]
    },
    {
      "cell_type": "code",
      "source": [
        "!pip install -q lpips torchvision"
      ],
      "metadata": {
        "colab": {
          "base_uri": "https://localhost:8080/"
        },
        "id": "r86Sc0gM6hOA",
        "outputId": "49550ad3-53ba-47c2-a440-de782f8cbe11"
      },
      "execution_count": null,
      "outputs": [
        {
          "output_type": "stream",
          "name": "stdout",
          "text": [
            "\u001b[?25l   \u001b[90m━━━━━━━━━━━━━━━━━━━━━━━━━━━━━━━━━━━━━━━━\u001b[0m \u001b[32m0.0/53.8 kB\u001b[0m \u001b[31m?\u001b[0m eta \u001b[36m-:--:--\u001b[0m\r\u001b[2K   \u001b[90m━━━━━━━━━━━━━━━━━━━━━━━━━━━━━━━━━━━━━━━━\u001b[0m \u001b[32m53.8/53.8 kB\u001b[0m \u001b[31m2.0 MB/s\u001b[0m eta \u001b[36m0:00:00\u001b[0m\n",
            "\u001b[?25h"
          ]
        }
      ]
    },
    {
      "cell_type": "code",
      "source": [
        "from generative.inferers import LatentDiffusionInferer\n",
        "from generative.losses.adversarial_loss import PatchAdversarialLoss\n",
        "from generative.losses.perceptual import PerceptualLoss\n",
        "from generative.networks.nets import AutoencoderKL, DiffusionModelUNet, PatchDiscriminator\n",
        "from generative.networks.schedulers import DDPMScheduler"
      ],
      "metadata": {
        "id": "Cppd4yHM5VU5",
        "colab": {
          "base_uri": "https://localhost:8080/"
        },
        "outputId": "cc152893-0020-47f9-fe07-dfb8c36e8624"
      },
      "execution_count": null,
      "outputs": [
        {
          "output_type": "stream",
          "name": "stderr",
          "text": [
            "/usr/local/lib/python3.11/dist-packages/generative/networks/layers/vector_quantizer.py:86: FutureWarning: `torch.cuda.amp.autocast(args...)` is deprecated. Please use `torch.amp.autocast('cuda', args...)` instead.\n",
            "  @torch.cuda.amp.autocast(enabled=False)\n",
            "/usr/local/lib/python3.11/dist-packages/generative/networks/layers/vector_quantizer.py:124: FutureWarning: `torch.cuda.amp.autocast(args...)` is deprecated. Please use `torch.amp.autocast('cuda', args...)` instead.\n",
            "  @torch.cuda.amp.autocast(enabled=False)\n"
          ]
        }
      ]
    },
    {
      "cell_type": "code",
      "source": [
        "print_config()"
      ],
      "metadata": {
        "colab": {
          "base_uri": "https://localhost:8080/"
        },
        "id": "sMOFiN7I5DOM",
        "outputId": "00595f54-d044-459c-ea33-ce7796461444"
      },
      "execution_count": null,
      "outputs": [
        {
          "output_type": "stream",
          "name": "stdout",
          "text": [
            "MONAI version: 1.6.dev2529\n",
            "Numpy version: 2.0.2\n",
            "Pytorch version: 2.6.0+cu124\n",
            "MONAI flags: HAS_EXT = False, USE_COMPILED = False, USE_META_DICT = False\n",
            "MONAI rev id: a75b1924d44493d0eed607eb77a98cbad3a7ac04\n",
            "MONAI __file__: /usr/local/lib/python3.11/dist-packages/monai/__init__.py\n",
            "\n",
            "Optional dependencies:\n",
            "Pytorch Ignite version: NOT INSTALLED or UNKNOWN VERSION.\n",
            "ITK version: NOT INSTALLED or UNKNOWN VERSION.\n",
            "Nibabel version: 5.3.2\n",
            "scikit-image version: 0.25.2\n",
            "scipy version: 1.15.3\n",
            "Pillow version: 11.2.1\n",
            "Tensorboard version: 2.18.0\n",
            "gdown version: 5.2.0\n",
            "TorchVision version: 0.21.0+cu124\n",
            "tqdm version: 4.67.1\n",
            "lmdb version: NOT INSTALLED or UNKNOWN VERSION.\n",
            "psutil version: 5.9.5\n",
            "pandas version: 2.2.2\n",
            "einops version: 0.8.1\n",
            "transformers version: 4.53.2\n",
            "mlflow version: NOT INSTALLED or UNKNOWN VERSION.\n",
            "pynrrd version: NOT INSTALLED or UNKNOWN VERSION.\n",
            "clearml version: NOT INSTALLED or UNKNOWN VERSION.\n",
            "\n",
            "For details about installing the optional dependencies, please visit:\n",
            "    https://docs.monai.io/en/latest/installation.html#installing-the-recommended-dependencies\n",
            "\n"
          ]
        }
      ]
    },
    {
      "cell_type": "code",
      "source": [
        "set_determinism(44)"
      ],
      "metadata": {
        "id": "FzbJSab59UPr"
      },
      "execution_count": null,
      "outputs": []
    },
    {
      "cell_type": "markdown",
      "source": [
        "Directory Setup"
      ],
      "metadata": {
        "id": "BGfkBxrv-u1M"
      }
    },
    {
      "cell_type": "code",
      "source": [
        "os.environ[\"MONAI_DATA_DIRECTORY\"] = \"/content/sample_data\"\n",
        "directory = os.environ.get(\"MONAI_DATA_DIRECTORY\")\n",
        "root_dir = tempfile.mkdtemp() if directory is None else directory\n",
        "print(root_dir)"
      ],
      "metadata": {
        "colab": {
          "base_uri": "https://localhost:8080/"
        },
        "id": "R-pFXHYg9igp",
        "outputId": "071a00be-f118-4e12-cebb-af71cd7e31ac"
      },
      "execution_count": null,
      "outputs": [
        {
          "output_type": "stream",
          "name": "stdout",
          "text": [
            "/content/sample_data\n"
          ]
        }
      ]
    },
    {
      "cell_type": "code",
      "source": [
        "#data download\n",
        "train_data = MedNISTDataset(root_dir=root_dir, section=\"training\", download=True, seed=0)"
      ],
      "metadata": {
        "colab": {
          "base_uri": "https://localhost:8080/"
        },
        "id": "WqCMRQde-ybU",
        "outputId": "69808d14-c682-4e10-bda6-4e5e755bc494"
      },
      "execution_count": null,
      "outputs": [
        {
          "output_type": "stream",
          "name": "stderr",
          "text": [
            "MedNIST.tar.gz: 59.0MB [00:02, 22.4MB/s]                            "
          ]
        },
        {
          "output_type": "stream",
          "name": "stdout",
          "text": [
            "2025-07-21 14:35:10,459 - INFO - Downloaded: /content/sample_data/MedNIST.tar.gz\n",
            "2025-07-21 14:35:10,572 - INFO - Verified 'MedNIST.tar.gz', md5: 0bc7306e7427e00ad1c5526a6677552d.\n",
            "2025-07-21 14:35:10,573 - INFO - Writing into directory: /content/sample_data.\n"
          ]
        },
        {
          "output_type": "stream",
          "name": "stderr",
          "text": [
            "\n",
            "Loading dataset: 100%|██████████| 47164/47164 [00:30<00:00, 1552.95it/s]\n"
          ]
        }
      ]
    },
    {
      "cell_type": "code",
      "source": [
        "#filtering the hands only images from mednist\n",
        "train_datalist = [{\"image\": item[\"image\"]} for item in train_data.data if item[\"class_name\"] == \"Hand\"]\n",
        "image_size = 64\n"
      ],
      "metadata": {
        "id": "BjxbmW3L_VbK"
      },
      "execution_count": null,
      "outputs": []
    },
    {
      "cell_type": "code",
      "source": [
        "train_datalist"
      ],
      "metadata": {
        "colab": {
          "base_uri": "https://localhost:8080/"
        },
        "id": "5Jzrljpj_1ah",
        "outputId": "54cd27fb-4df7-4cc7-cca6-cf7572353d49"
      },
      "execution_count": null,
      "outputs": [
        {
          "output_type": "execute_result",
          "data": {
            "text/plain": [
              "[{'image': '/content/sample_data/MedNIST/Hand/006295.jpeg'},\n",
              " {'image': '/content/sample_data/MedNIST/Hand/008051.jpeg'},\n",
              " {'image': '/content/sample_data/MedNIST/Hand/003515.jpeg'},\n",
              " {'image': '/content/sample_data/MedNIST/Hand/008891.jpeg'},\n",
              " {'image': '/content/sample_data/MedNIST/Hand/002291.jpeg'},\n",
              " {'image': '/content/sample_data/MedNIST/Hand/000052.jpeg'},\n",
              " {'image': '/content/sample_data/MedNIST/Hand/006859.jpeg'},\n",
              " {'image': '/content/sample_data/MedNIST/Hand/009481.jpeg'},\n",
              " {'image': '/content/sample_data/MedNIST/Hand/005313.jpeg'},\n",
              " {'image': '/content/sample_data/MedNIST/Hand/009724.jpeg'},\n",
              " {'image': '/content/sample_data/MedNIST/Hand/000662.jpeg'},\n",
              " {'image': '/content/sample_data/MedNIST/Hand/005476.jpeg'},\n",
              " {'image': '/content/sample_data/MedNIST/Hand/006973.jpeg'},\n",
              " {'image': '/content/sample_data/MedNIST/Hand/005030.jpeg'},\n",
              " {'image': '/content/sample_data/MedNIST/Hand/006445.jpeg'},\n",
              " {'image': '/content/sample_data/MedNIST/Hand/009694.jpeg'},\n",
              " {'image': '/content/sample_data/MedNIST/Hand/007272.jpeg'},\n",
              " {'image': '/content/sample_data/MedNIST/Hand/007759.jpeg'},\n",
              " {'image': '/content/sample_data/MedNIST/Hand/006184.jpeg'},\n",
              " {'image': '/content/sample_data/MedNIST/Hand/005259.jpeg'},\n",
              " {'image': '/content/sample_data/MedNIST/Hand/007506.jpeg'},\n",
              " {'image': '/content/sample_data/MedNIST/Hand/007335.jpeg'},\n",
              " {'image': '/content/sample_data/MedNIST/Hand/004616.jpeg'},\n",
              " {'image': '/content/sample_data/MedNIST/Hand/007876.jpeg'},\n",
              " {'image': '/content/sample_data/MedNIST/Hand/005454.jpeg'},\n",
              " {'image': '/content/sample_data/MedNIST/Hand/003219.jpeg'},\n",
              " {'image': '/content/sample_data/MedNIST/Hand/004662.jpeg'},\n",
              " {'image': '/content/sample_data/MedNIST/Hand/000045.jpeg'},\n",
              " {'image': '/content/sample_data/MedNIST/Hand/007765.jpeg'},\n",
              " {'image': '/content/sample_data/MedNIST/Hand/008061.jpeg'},\n",
              " {'image': '/content/sample_data/MedNIST/Hand/000721.jpeg'},\n",
              " {'image': '/content/sample_data/MedNIST/Hand/005501.jpeg'},\n",
              " {'image': '/content/sample_data/MedNIST/Hand/002683.jpeg'},\n",
              " {'image': '/content/sample_data/MedNIST/Hand/006492.jpeg'},\n",
              " {'image': '/content/sample_data/MedNIST/Hand/009860.jpeg'},\n",
              " {'image': '/content/sample_data/MedNIST/Hand/006855.jpeg'},\n",
              " {'image': '/content/sample_data/MedNIST/Hand/007589.jpeg'},\n",
              " {'image': '/content/sample_data/MedNIST/Hand/009417.jpeg'},\n",
              " {'image': '/content/sample_data/MedNIST/Hand/007379.jpeg'},\n",
              " {'image': '/content/sample_data/MedNIST/Hand/006586.jpeg'},\n",
              " {'image': '/content/sample_data/MedNIST/Hand/003580.jpeg'},\n",
              " {'image': '/content/sample_data/MedNIST/Hand/008325.jpeg'},\n",
              " {'image': '/content/sample_data/MedNIST/Hand/001656.jpeg'},\n",
              " {'image': '/content/sample_data/MedNIST/Hand/003529.jpeg'},\n",
              " {'image': '/content/sample_data/MedNIST/Hand/006141.jpeg'},\n",
              " {'image': '/content/sample_data/MedNIST/Hand/007837.jpeg'},\n",
              " {'image': '/content/sample_data/MedNIST/Hand/005574.jpeg'},\n",
              " {'image': '/content/sample_data/MedNIST/Hand/003802.jpeg'},\n",
              " {'image': '/content/sample_data/MedNIST/Hand/008593.jpeg'},\n",
              " {'image': '/content/sample_data/MedNIST/Hand/002965.jpeg'},\n",
              " {'image': '/content/sample_data/MedNIST/Hand/009141.jpeg'},\n",
              " {'image': '/content/sample_data/MedNIST/Hand/007709.jpeg'},\n",
              " {'image': '/content/sample_data/MedNIST/Hand/000609.jpeg'},\n",
              " {'image': '/content/sample_data/MedNIST/Hand/009780.jpeg'},\n",
              " {'image': '/content/sample_data/MedNIST/Hand/003403.jpeg'},\n",
              " {'image': '/content/sample_data/MedNIST/Hand/004690.jpeg'},\n",
              " {'image': '/content/sample_data/MedNIST/Hand/000403.jpeg'},\n",
              " {'image': '/content/sample_data/MedNIST/Hand/008984.jpeg'},\n",
              " {'image': '/content/sample_data/MedNIST/Hand/002095.jpeg'},\n",
              " {'image': '/content/sample_data/MedNIST/Hand/005739.jpeg'},\n",
              " {'image': '/content/sample_data/MedNIST/Hand/009490.jpeg'},\n",
              " {'image': '/content/sample_data/MedNIST/Hand/000227.jpeg'},\n",
              " {'image': '/content/sample_data/MedNIST/Hand/006138.jpeg'},\n",
              " {'image': '/content/sample_data/MedNIST/Hand/008576.jpeg'},\n",
              " {'image': '/content/sample_data/MedNIST/Hand/004397.jpeg'},\n",
              " {'image': '/content/sample_data/MedNIST/Hand/005318.jpeg'},\n",
              " {'image': '/content/sample_data/MedNIST/Hand/001851.jpeg'},\n",
              " {'image': '/content/sample_data/MedNIST/Hand/006765.jpeg'},\n",
              " {'image': '/content/sample_data/MedNIST/Hand/008115.jpeg'},\n",
              " {'image': '/content/sample_data/MedNIST/Hand/003031.jpeg'},\n",
              " {'image': '/content/sample_data/MedNIST/Hand/008680.jpeg'},\n",
              " {'image': '/content/sample_data/MedNIST/Hand/007260.jpeg'},\n",
              " {'image': '/content/sample_data/MedNIST/Hand/009049.jpeg'},\n",
              " {'image': '/content/sample_data/MedNIST/Hand/002664.jpeg'},\n",
              " {'image': '/content/sample_data/MedNIST/Hand/004203.jpeg'},\n",
              " {'image': '/content/sample_data/MedNIST/Hand/002947.jpeg'},\n",
              " {'image': '/content/sample_data/MedNIST/Hand/005117.jpeg'},\n",
              " {'image': '/content/sample_data/MedNIST/Hand/009899.jpeg'},\n",
              " {'image': '/content/sample_data/MedNIST/Hand/006738.jpeg'},\n",
              " {'image': '/content/sample_data/MedNIST/Hand/008900.jpeg'},\n",
              " {'image': '/content/sample_data/MedNIST/Hand/009537.jpeg'},\n",
              " {'image': '/content/sample_data/MedNIST/Hand/008133.jpeg'},\n",
              " {'image': '/content/sample_data/MedNIST/Hand/007458.jpeg'},\n",
              " {'image': '/content/sample_data/MedNIST/Hand/001615.jpeg'},\n",
              " {'image': '/content/sample_data/MedNIST/Hand/007512.jpeg'},\n",
              " {'image': '/content/sample_data/MedNIST/Hand/001255.jpeg'},\n",
              " {'image': '/content/sample_data/MedNIST/Hand/008425.jpeg'},\n",
              " {'image': '/content/sample_data/MedNIST/Hand/009421.jpeg'},\n",
              " {'image': '/content/sample_data/MedNIST/Hand/000755.jpeg'},\n",
              " {'image': '/content/sample_data/MedNIST/Hand/005591.jpeg'},\n",
              " {'image': '/content/sample_data/MedNIST/Hand/004897.jpeg'},\n",
              " {'image': '/content/sample_data/MedNIST/Hand/000562.jpeg'},\n",
              " {'image': '/content/sample_data/MedNIST/Hand/001387.jpeg'},\n",
              " {'image': '/content/sample_data/MedNIST/Hand/008384.jpeg'},\n",
              " {'image': '/content/sample_data/MedNIST/Hand/000734.jpeg'},\n",
              " {'image': '/content/sample_data/MedNIST/Hand/006911.jpeg'},\n",
              " {'image': '/content/sample_data/MedNIST/Hand/007180.jpeg'},\n",
              " {'image': '/content/sample_data/MedNIST/Hand/005785.jpeg'},\n",
              " {'image': '/content/sample_data/MedNIST/Hand/004149.jpeg'},\n",
              " {'image': '/content/sample_data/MedNIST/Hand/009869.jpeg'},\n",
              " {'image': '/content/sample_data/MedNIST/Hand/002093.jpeg'},\n",
              " {'image': '/content/sample_data/MedNIST/Hand/004427.jpeg'},\n",
              " {'image': '/content/sample_data/MedNIST/Hand/003128.jpeg'},\n",
              " {'image': '/content/sample_data/MedNIST/Hand/003421.jpeg'},\n",
              " {'image': '/content/sample_data/MedNIST/Hand/002868.jpeg'},\n",
              " {'image': '/content/sample_data/MedNIST/Hand/006503.jpeg'},\n",
              " {'image': '/content/sample_data/MedNIST/Hand/006613.jpeg'},\n",
              " {'image': '/content/sample_data/MedNIST/Hand/006958.jpeg'},\n",
              " {'image': '/content/sample_data/MedNIST/Hand/003229.jpeg'},\n",
              " {'image': '/content/sample_data/MedNIST/Hand/002235.jpeg'},\n",
              " {'image': '/content/sample_data/MedNIST/Hand/003525.jpeg'},\n",
              " {'image': '/content/sample_data/MedNIST/Hand/004803.jpeg'},\n",
              " {'image': '/content/sample_data/MedNIST/Hand/006579.jpeg'},\n",
              " {'image': '/content/sample_data/MedNIST/Hand/003047.jpeg'},\n",
              " {'image': '/content/sample_data/MedNIST/Hand/002247.jpeg'},\n",
              " {'image': '/content/sample_data/MedNIST/Hand/003139.jpeg'},\n",
              " {'image': '/content/sample_data/MedNIST/Hand/007403.jpeg'},\n",
              " {'image': '/content/sample_data/MedNIST/Hand/003195.jpeg'},\n",
              " {'image': '/content/sample_data/MedNIST/Hand/003536.jpeg'},\n",
              " {'image': '/content/sample_data/MedNIST/Hand/003806.jpeg'},\n",
              " {'image': '/content/sample_data/MedNIST/Hand/006043.jpeg'},\n",
              " {'image': '/content/sample_data/MedNIST/Hand/007352.jpeg'},\n",
              " {'image': '/content/sample_data/MedNIST/Hand/000986.jpeg'},\n",
              " {'image': '/content/sample_data/MedNIST/Hand/002521.jpeg'},\n",
              " {'image': '/content/sample_data/MedNIST/Hand/003667.jpeg'},\n",
              " {'image': '/content/sample_data/MedNIST/Hand/004505.jpeg'},\n",
              " {'image': '/content/sample_data/MedNIST/Hand/004880.jpeg'},\n",
              " {'image': '/content/sample_data/MedNIST/Hand/009937.jpeg'},\n",
              " {'image': '/content/sample_data/MedNIST/Hand/008782.jpeg'},\n",
              " {'image': '/content/sample_data/MedNIST/Hand/000349.jpeg'},\n",
              " {'image': '/content/sample_data/MedNIST/Hand/005998.jpeg'},\n",
              " {'image': '/content/sample_data/MedNIST/Hand/002300.jpeg'},\n",
              " {'image': '/content/sample_data/MedNIST/Hand/000509.jpeg'},\n",
              " {'image': '/content/sample_data/MedNIST/Hand/009331.jpeg'},\n",
              " {'image': '/content/sample_data/MedNIST/Hand/007585.jpeg'},\n",
              " {'image': '/content/sample_data/MedNIST/Hand/004832.jpeg'},\n",
              " {'image': '/content/sample_data/MedNIST/Hand/007288.jpeg'},\n",
              " {'image': '/content/sample_data/MedNIST/Hand/004543.jpeg'},\n",
              " {'image': '/content/sample_data/MedNIST/Hand/004130.jpeg'},\n",
              " {'image': '/content/sample_data/MedNIST/Hand/005855.jpeg'},\n",
              " {'image': '/content/sample_data/MedNIST/Hand/002421.jpeg'},\n",
              " {'image': '/content/sample_data/MedNIST/Hand/008701.jpeg'},\n",
              " {'image': '/content/sample_data/MedNIST/Hand/001263.jpeg'},\n",
              " {'image': '/content/sample_data/MedNIST/Hand/009675.jpeg'},\n",
              " {'image': '/content/sample_data/MedNIST/Hand/007023.jpeg'},\n",
              " {'image': '/content/sample_data/MedNIST/Hand/002141.jpeg'},\n",
              " {'image': '/content/sample_data/MedNIST/Hand/006743.jpeg'},\n",
              " {'image': '/content/sample_data/MedNIST/Hand/008301.jpeg'},\n",
              " {'image': '/content/sample_data/MedNIST/Hand/006882.jpeg'},\n",
              " {'image': '/content/sample_data/MedNIST/Hand/007486.jpeg'},\n",
              " {'image': '/content/sample_data/MedNIST/Hand/001961.jpeg'},\n",
              " {'image': '/content/sample_data/MedNIST/Hand/003645.jpeg'},\n",
              " {'image': '/content/sample_data/MedNIST/Hand/008032.jpeg'},\n",
              " {'image': '/content/sample_data/MedNIST/Hand/009517.jpeg'},\n",
              " {'image': '/content/sample_data/MedNIST/Hand/008663.jpeg'},\n",
              " {'image': '/content/sample_data/MedNIST/Hand/004621.jpeg'},\n",
              " {'image': '/content/sample_data/MedNIST/Hand/003652.jpeg'},\n",
              " {'image': '/content/sample_data/MedNIST/Hand/002609.jpeg'},\n",
              " {'image': '/content/sample_data/MedNIST/Hand/000611.jpeg'},\n",
              " {'image': '/content/sample_data/MedNIST/Hand/005552.jpeg'},\n",
              " {'image': '/content/sample_data/MedNIST/Hand/000164.jpeg'},\n",
              " {'image': '/content/sample_data/MedNIST/Hand/009627.jpeg'},\n",
              " {'image': '/content/sample_data/MedNIST/Hand/005271.jpeg'},\n",
              " {'image': '/content/sample_data/MedNIST/Hand/004725.jpeg'},\n",
              " {'image': '/content/sample_data/MedNIST/Hand/004482.jpeg'},\n",
              " {'image': '/content/sample_data/MedNIST/Hand/005325.jpeg'},\n",
              " {'image': '/content/sample_data/MedNIST/Hand/000408.jpeg'},\n",
              " {'image': '/content/sample_data/MedNIST/Hand/008465.jpeg'},\n",
              " {'image': '/content/sample_data/MedNIST/Hand/002055.jpeg'},\n",
              " {'image': '/content/sample_data/MedNIST/Hand/000088.jpeg'},\n",
              " {'image': '/content/sample_data/MedNIST/Hand/005704.jpeg'},\n",
              " {'image': '/content/sample_data/MedNIST/Hand/007680.jpeg'},\n",
              " {'image': '/content/sample_data/MedNIST/Hand/004920.jpeg'},\n",
              " {'image': '/content/sample_data/MedNIST/Hand/006441.jpeg'},\n",
              " {'image': '/content/sample_data/MedNIST/Hand/008491.jpeg'},\n",
              " {'image': '/content/sample_data/MedNIST/Hand/003872.jpeg'},\n",
              " {'image': '/content/sample_data/MedNIST/Hand/005869.jpeg'},\n",
              " {'image': '/content/sample_data/MedNIST/Hand/004797.jpeg'},\n",
              " {'image': '/content/sample_data/MedNIST/Hand/000012.jpeg'},\n",
              " {'image': '/content/sample_data/MedNIST/Hand/001597.jpeg'},\n",
              " {'image': '/content/sample_data/MedNIST/Hand/004951.jpeg'},\n",
              " {'image': '/content/sample_data/MedNIST/Hand/008059.jpeg'},\n",
              " {'image': '/content/sample_data/MedNIST/Hand/008197.jpeg'},\n",
              " {'image': '/content/sample_data/MedNIST/Hand/006861.jpeg'},\n",
              " {'image': '/content/sample_data/MedNIST/Hand/003992.jpeg'},\n",
              " {'image': '/content/sample_data/MedNIST/Hand/009459.jpeg'},\n",
              " {'image': '/content/sample_data/MedNIST/Hand/002650.jpeg'},\n",
              " {'image': '/content/sample_data/MedNIST/Hand/008139.jpeg'},\n",
              " {'image': '/content/sample_data/MedNIST/Hand/007637.jpeg'},\n",
              " {'image': '/content/sample_data/MedNIST/Hand/000756.jpeg'},\n",
              " {'image': '/content/sample_data/MedNIST/Hand/009163.jpeg'},\n",
              " {'image': '/content/sample_data/MedNIST/Hand/009151.jpeg'},\n",
              " {'image': '/content/sample_data/MedNIST/Hand/001311.jpeg'},\n",
              " {'image': '/content/sample_data/MedNIST/Hand/000526.jpeg'},\n",
              " {'image': '/content/sample_data/MedNIST/Hand/005644.jpeg'},\n",
              " {'image': '/content/sample_data/MedNIST/Hand/006898.jpeg'},\n",
              " {'image': '/content/sample_data/MedNIST/Hand/000591.jpeg'},\n",
              " {'image': '/content/sample_data/MedNIST/Hand/003962.jpeg'},\n",
              " {'image': '/content/sample_data/MedNIST/Hand/005191.jpeg'},\n",
              " {'image': '/content/sample_data/MedNIST/Hand/007850.jpeg'},\n",
              " {'image': '/content/sample_data/MedNIST/Hand/003702.jpeg'},\n",
              " {'image': '/content/sample_data/MedNIST/Hand/001616.jpeg'},\n",
              " {'image': '/content/sample_data/MedNIST/Hand/009711.jpeg'},\n",
              " {'image': '/content/sample_data/MedNIST/Hand/008298.jpeg'},\n",
              " {'image': '/content/sample_data/MedNIST/Hand/005853.jpeg'},\n",
              " {'image': '/content/sample_data/MedNIST/Hand/004835.jpeg'},\n",
              " {'image': '/content/sample_data/MedNIST/Hand/009810.jpeg'},\n",
              " {'image': '/content/sample_data/MedNIST/Hand/005648.jpeg'},\n",
              " {'image': '/content/sample_data/MedNIST/Hand/007839.jpeg'},\n",
              " {'image': '/content/sample_data/MedNIST/Hand/001361.jpeg'},\n",
              " {'image': '/content/sample_data/MedNIST/Hand/002481.jpeg'},\n",
              " {'image': '/content/sample_data/MedNIST/Hand/009017.jpeg'},\n",
              " {'image': '/content/sample_data/MedNIST/Hand/003798.jpeg'},\n",
              " {'image': '/content/sample_data/MedNIST/Hand/008151.jpeg'},\n",
              " {'image': '/content/sample_data/MedNIST/Hand/003331.jpeg'},\n",
              " {'image': '/content/sample_data/MedNIST/Hand/009034.jpeg'},\n",
              " {'image': '/content/sample_data/MedNIST/Hand/006618.jpeg'},\n",
              " {'image': '/content/sample_data/MedNIST/Hand/003967.jpeg'},\n",
              " {'image': '/content/sample_data/MedNIST/Hand/008095.jpeg'},\n",
              " {'image': '/content/sample_data/MedNIST/Hand/004598.jpeg'},\n",
              " {'image': '/content/sample_data/MedNIST/Hand/006971.jpeg'},\n",
              " {'image': '/content/sample_data/MedNIST/Hand/002606.jpeg'},\n",
              " {'image': '/content/sample_data/MedNIST/Hand/008917.jpeg'},\n",
              " {'image': '/content/sample_data/MedNIST/Hand/006572.jpeg'},\n",
              " {'image': '/content/sample_data/MedNIST/Hand/003838.jpeg'},\n",
              " {'image': '/content/sample_data/MedNIST/Hand/008684.jpeg'},\n",
              " {'image': '/content/sample_data/MedNIST/Hand/009469.jpeg'},\n",
              " {'image': '/content/sample_data/MedNIST/Hand/001759.jpeg'},\n",
              " {'image': '/content/sample_data/MedNIST/Hand/001840.jpeg'},\n",
              " {'image': '/content/sample_data/MedNIST/Hand/000324.jpeg'},\n",
              " {'image': '/content/sample_data/MedNIST/Hand/007743.jpeg'},\n",
              " {'image': '/content/sample_data/MedNIST/Hand/002913.jpeg'},\n",
              " {'image': '/content/sample_data/MedNIST/Hand/001259.jpeg'},\n",
              " {'image': '/content/sample_data/MedNIST/Hand/000690.jpeg'},\n",
              " {'image': '/content/sample_data/MedNIST/Hand/008902.jpeg'},\n",
              " {'image': '/content/sample_data/MedNIST/Hand/003809.jpeg'},\n",
              " {'image': '/content/sample_data/MedNIST/Hand/003277.jpeg'},\n",
              " {'image': '/content/sample_data/MedNIST/Hand/006253.jpeg'},\n",
              " {'image': '/content/sample_data/MedNIST/Hand/001893.jpeg'},\n",
              " {'image': '/content/sample_data/MedNIST/Hand/009265.jpeg'},\n",
              " {'image': '/content/sample_data/MedNIST/Hand/002143.jpeg'},\n",
              " {'image': '/content/sample_data/MedNIST/Hand/003096.jpeg'},\n",
              " {'image': '/content/sample_data/MedNIST/Hand/005424.jpeg'},\n",
              " {'image': '/content/sample_data/MedNIST/Hand/001482.jpeg'},\n",
              " {'image': '/content/sample_data/MedNIST/Hand/008991.jpeg'},\n",
              " {'image': '/content/sample_data/MedNIST/Hand/000160.jpeg'},\n",
              " {'image': '/content/sample_data/MedNIST/Hand/008722.jpeg'},\n",
              " {'image': '/content/sample_data/MedNIST/Hand/000028.jpeg'},\n",
              " {'image': '/content/sample_data/MedNIST/Hand/004555.jpeg'},\n",
              " {'image': '/content/sample_data/MedNIST/Hand/009463.jpeg'},\n",
              " {'image': '/content/sample_data/MedNIST/Hand/003002.jpeg'},\n",
              " {'image': '/content/sample_data/MedNIST/Hand/007071.jpeg'},\n",
              " {'image': '/content/sample_data/MedNIST/Hand/005947.jpeg'},\n",
              " {'image': '/content/sample_data/MedNIST/Hand/007764.jpeg'},\n",
              " {'image': '/content/sample_data/MedNIST/Hand/007003.jpeg'},\n",
              " {'image': '/content/sample_data/MedNIST/Hand/007306.jpeg'},\n",
              " {'image': '/content/sample_data/MedNIST/Hand/007791.jpeg'},\n",
              " {'image': '/content/sample_data/MedNIST/Hand/004874.jpeg'},\n",
              " {'image': '/content/sample_data/MedNIST/Hand/008789.jpeg'},\n",
              " {'image': '/content/sample_data/MedNIST/Hand/005623.jpeg'},\n",
              " {'image': '/content/sample_data/MedNIST/Hand/001271.jpeg'},\n",
              " {'image': '/content/sample_data/MedNIST/Hand/004696.jpeg'},\n",
              " {'image': '/content/sample_data/MedNIST/Hand/003803.jpeg'},\n",
              " {'image': '/content/sample_data/MedNIST/Hand/003719.jpeg'},\n",
              " {'image': '/content/sample_data/MedNIST/Hand/004582.jpeg'},\n",
              " {'image': '/content/sample_data/MedNIST/Hand/003930.jpeg'},\n",
              " {'image': '/content/sample_data/MedNIST/Hand/000113.jpeg'},\n",
              " {'image': '/content/sample_data/MedNIST/Hand/006732.jpeg'},\n",
              " {'image': '/content/sample_data/MedNIST/Hand/005872.jpeg'},\n",
              " {'image': '/content/sample_data/MedNIST/Hand/002195.jpeg'},\n",
              " {'image': '/content/sample_data/MedNIST/Hand/001631.jpeg'},\n",
              " {'image': '/content/sample_data/MedNIST/Hand/007487.jpeg'},\n",
              " {'image': '/content/sample_data/MedNIST/Hand/006232.jpeg'},\n",
              " {'image': '/content/sample_data/MedNIST/Hand/004792.jpeg'},\n",
              " {'image': '/content/sample_data/MedNIST/Hand/008027.jpeg'},\n",
              " {'image': '/content/sample_data/MedNIST/Hand/000700.jpeg'},\n",
              " {'image': '/content/sample_data/MedNIST/Hand/003657.jpeg'},\n",
              " {'image': '/content/sample_data/MedNIST/Hand/005795.jpeg'},\n",
              " {'image': '/content/sample_data/MedNIST/Hand/009796.jpeg'},\n",
              " {'image': '/content/sample_data/MedNIST/Hand/004822.jpeg'},\n",
              " {'image': '/content/sample_data/MedNIST/Hand/008167.jpeg'},\n",
              " {'image': '/content/sample_data/MedNIST/Hand/000381.jpeg'},\n",
              " {'image': '/content/sample_data/MedNIST/Hand/007666.jpeg'},\n",
              " {'image': '/content/sample_data/MedNIST/Hand/007900.jpeg'},\n",
              " {'image': '/content/sample_data/MedNIST/Hand/003740.jpeg'},\n",
              " {'image': '/content/sample_data/MedNIST/Hand/007965.jpeg'},\n",
              " {'image': '/content/sample_data/MedNIST/Hand/009703.jpeg'},\n",
              " {'image': '/content/sample_data/MedNIST/Hand/003375.jpeg'},\n",
              " {'image': '/content/sample_data/MedNIST/Hand/002134.jpeg'},\n",
              " {'image': '/content/sample_data/MedNIST/Hand/003170.jpeg'},\n",
              " {'image': '/content/sample_data/MedNIST/Hand/007640.jpeg'},\n",
              " {'image': '/content/sample_data/MedNIST/Hand/006619.jpeg'},\n",
              " {'image': '/content/sample_data/MedNIST/Hand/007134.jpeg'},\n",
              " {'image': '/content/sample_data/MedNIST/Hand/001832.jpeg'},\n",
              " {'image': '/content/sample_data/MedNIST/Hand/005049.jpeg'},\n",
              " {'image': '/content/sample_data/MedNIST/Hand/002131.jpeg'},\n",
              " {'image': '/content/sample_data/MedNIST/Hand/007623.jpeg'},\n",
              " {'image': '/content/sample_data/MedNIST/Hand/005409.jpeg'},\n",
              " {'image': '/content/sample_data/MedNIST/Hand/007721.jpeg'},\n",
              " {'image': '/content/sample_data/MedNIST/Hand/008283.jpeg'},\n",
              " {'image': '/content/sample_data/MedNIST/Hand/008353.jpeg'},\n",
              " {'image': '/content/sample_data/MedNIST/Hand/005187.jpeg'},\n",
              " {'image': '/content/sample_data/MedNIST/Hand/005105.jpeg'},\n",
              " {'image': '/content/sample_data/MedNIST/Hand/006681.jpeg'},\n",
              " {'image': '/content/sample_data/MedNIST/Hand/009682.jpeg'},\n",
              " {'image': '/content/sample_data/MedNIST/Hand/002924.jpeg'},\n",
              " {'image': '/content/sample_data/MedNIST/Hand/005118.jpeg'},\n",
              " {'image': '/content/sample_data/MedNIST/Hand/005660.jpeg'},\n",
              " {'image': '/content/sample_data/MedNIST/Hand/008542.jpeg'},\n",
              " {'image': '/content/sample_data/MedNIST/Hand/003200.jpeg'},\n",
              " {'image': '/content/sample_data/MedNIST/Hand/003202.jpeg'},\n",
              " {'image': '/content/sample_data/MedNIST/Hand/006890.jpeg'},\n",
              " {'image': '/content/sample_data/MedNIST/Hand/008934.jpeg'},\n",
              " {'image': '/content/sample_data/MedNIST/Hand/006432.jpeg'},\n",
              " {'image': '/content/sample_data/MedNIST/Hand/006098.jpeg'},\n",
              " {'image': '/content/sample_data/MedNIST/Hand/000785.jpeg'},\n",
              " {'image': '/content/sample_data/MedNIST/Hand/006381.jpeg'},\n",
              " {'image': '/content/sample_data/MedNIST/Hand/003389.jpeg'},\n",
              " {'image': '/content/sample_data/MedNIST/Hand/004181.jpeg'},\n",
              " {'image': '/content/sample_data/MedNIST/Hand/000064.jpeg'},\n",
              " {'image': '/content/sample_data/MedNIST/Hand/008546.jpeg'},\n",
              " {'image': '/content/sample_data/MedNIST/Hand/004626.jpeg'},\n",
              " {'image': '/content/sample_data/MedNIST/Hand/001041.jpeg'},\n",
              " {'image': '/content/sample_data/MedNIST/Hand/005901.jpeg'},\n",
              " {'image': '/content/sample_data/MedNIST/Hand/008287.jpeg'},\n",
              " {'image': '/content/sample_data/MedNIST/Hand/000935.jpeg'},\n",
              " {'image': '/content/sample_data/MedNIST/Hand/000619.jpeg'},\n",
              " {'image': '/content/sample_data/MedNIST/Hand/004125.jpeg'},\n",
              " {'image': '/content/sample_data/MedNIST/Hand/007310.jpeg'},\n",
              " {'image': '/content/sample_data/MedNIST/Hand/002088.jpeg'},\n",
              " {'image': '/content/sample_data/MedNIST/Hand/005944.jpeg'},\n",
              " {'image': '/content/sample_data/MedNIST/Hand/006658.jpeg'},\n",
              " {'image': '/content/sample_data/MedNIST/Hand/007713.jpeg'},\n",
              " {'image': '/content/sample_data/MedNIST/Hand/006948.jpeg'},\n",
              " {'image': '/content/sample_data/MedNIST/Hand/001276.jpeg'},\n",
              " {'image': '/content/sample_data/MedNIST/Hand/005851.jpeg'},\n",
              " {'image': '/content/sample_data/MedNIST/Hand/006166.jpeg'},\n",
              " {'image': '/content/sample_data/MedNIST/Hand/000111.jpeg'},\n",
              " {'image': '/content/sample_data/MedNIST/Hand/002898.jpeg'},\n",
              " {'image': '/content/sample_data/MedNIST/Hand/005827.jpeg'},\n",
              " {'image': '/content/sample_data/MedNIST/Hand/005530.jpeg'},\n",
              " {'image': '/content/sample_data/MedNIST/Hand/006090.jpeg'},\n",
              " {'image': '/content/sample_data/MedNIST/Hand/003303.jpeg'},\n",
              " {'image': '/content/sample_data/MedNIST/Hand/001043.jpeg'},\n",
              " {'image': '/content/sample_data/MedNIST/Hand/003916.jpeg'},\n",
              " {'image': '/content/sample_data/MedNIST/Hand/000497.jpeg'},\n",
              " {'image': '/content/sample_data/MedNIST/Hand/002960.jpeg'},\n",
              " {'image': '/content/sample_data/MedNIST/Hand/003527.jpeg'},\n",
              " {'image': '/content/sample_data/MedNIST/Hand/001809.jpeg'},\n",
              " {'image': '/content/sample_data/MedNIST/Hand/008004.jpeg'},\n",
              " {'image': '/content/sample_data/MedNIST/Hand/002224.jpeg'},\n",
              " {'image': '/content/sample_data/MedNIST/Hand/007181.jpeg'},\n",
              " {'image': '/content/sample_data/MedNIST/Hand/000297.jpeg'},\n",
              " {'image': '/content/sample_data/MedNIST/Hand/000126.jpeg'},\n",
              " {'image': '/content/sample_data/MedNIST/Hand/007100.jpeg'},\n",
              " {'image': '/content/sample_data/MedNIST/Hand/005864.jpeg'},\n",
              " {'image': '/content/sample_data/MedNIST/Hand/002953.jpeg'},\n",
              " {'image': '/content/sample_data/MedNIST/Hand/006511.jpeg'},\n",
              " {'image': '/content/sample_data/MedNIST/Hand/009870.jpeg'},\n",
              " {'image': '/content/sample_data/MedNIST/Hand/008588.jpeg'},\n",
              " {'image': '/content/sample_data/MedNIST/Hand/008373.jpeg'},\n",
              " {'image': '/content/sample_data/MedNIST/Hand/004086.jpeg'},\n",
              " {'image': '/content/sample_data/MedNIST/Hand/004363.jpeg'},\n",
              " {'image': '/content/sample_data/MedNIST/Hand/009309.jpeg'},\n",
              " {'image': '/content/sample_data/MedNIST/Hand/005335.jpeg'},\n",
              " {'image': '/content/sample_data/MedNIST/Hand/008997.jpeg'},\n",
              " {'image': '/content/sample_data/MedNIST/Hand/004553.jpeg'},\n",
              " {'image': '/content/sample_data/MedNIST/Hand/006512.jpeg'},\n",
              " {'image': '/content/sample_data/MedNIST/Hand/007279.jpeg'},\n",
              " {'image': '/content/sample_data/MedNIST/Hand/009564.jpeg'},\n",
              " {'image': '/content/sample_data/MedNIST/Hand/005268.jpeg'},\n",
              " {'image': '/content/sample_data/MedNIST/Hand/004600.jpeg'},\n",
              " {'image': '/content/sample_data/MedNIST/Hand/008076.jpeg'},\n",
              " {'image': '/content/sample_data/MedNIST/Hand/009503.jpeg'},\n",
              " {'image': '/content/sample_data/MedNIST/Hand/000369.jpeg'},\n",
              " {'image': '/content/sample_data/MedNIST/Hand/003585.jpeg'},\n",
              " {'image': '/content/sample_data/MedNIST/Hand/002159.jpeg'},\n",
              " {'image': '/content/sample_data/MedNIST/Hand/004456.jpeg'},\n",
              " {'image': '/content/sample_data/MedNIST/Hand/007221.jpeg'},\n",
              " {'image': '/content/sample_data/MedNIST/Hand/001012.jpeg'},\n",
              " {'image': '/content/sample_data/MedNIST/Hand/006583.jpeg'},\n",
              " {'image': '/content/sample_data/MedNIST/Hand/001779.jpeg'},\n",
              " {'image': '/content/sample_data/MedNIST/Hand/003753.jpeg'},\n",
              " {'image': '/content/sample_data/MedNIST/Hand/003054.jpeg'},\n",
              " {'image': '/content/sample_data/MedNIST/Hand/004337.jpeg'},\n",
              " {'image': '/content/sample_data/MedNIST/Hand/008155.jpeg'},\n",
              " {'image': '/content/sample_data/MedNIST/Hand/007905.jpeg'},\n",
              " {'image': '/content/sample_data/MedNIST/Hand/003820.jpeg'},\n",
              " {'image': '/content/sample_data/MedNIST/Hand/002356.jpeg'},\n",
              " {'image': '/content/sample_data/MedNIST/Hand/007270.jpeg'},\n",
              " {'image': '/content/sample_data/MedNIST/Hand/002581.jpeg'},\n",
              " {'image': '/content/sample_data/MedNIST/Hand/005041.jpeg'},\n",
              " {'image': '/content/sample_data/MedNIST/Hand/001829.jpeg'},\n",
              " {'image': '/content/sample_data/MedNIST/Hand/009953.jpeg'},\n",
              " {'image': '/content/sample_data/MedNIST/Hand/002792.jpeg'},\n",
              " {'image': '/content/sample_data/MedNIST/Hand/007304.jpeg'},\n",
              " {'image': '/content/sample_data/MedNIST/Hand/007779.jpeg'},\n",
              " {'image': '/content/sample_data/MedNIST/Hand/008025.jpeg'},\n",
              " {'image': '/content/sample_data/MedNIST/Hand/003757.jpeg'},\n",
              " {'image': '/content/sample_data/MedNIST/Hand/000318.jpeg'},\n",
              " {'image': '/content/sample_data/MedNIST/Hand/000906.jpeg'},\n",
              " {'image': '/content/sample_data/MedNIST/Hand/003834.jpeg'},\n",
              " {'image': '/content/sample_data/MedNIST/Hand/000430.jpeg'},\n",
              " {'image': '/content/sample_data/MedNIST/Hand/004767.jpeg'},\n",
              " {'image': '/content/sample_data/MedNIST/Hand/009173.jpeg'},\n",
              " {'image': '/content/sample_data/MedNIST/Hand/000704.jpeg'},\n",
              " {'image': '/content/sample_data/MedNIST/Hand/009045.jpeg'},\n",
              " {'image': '/content/sample_data/MedNIST/Hand/009324.jpeg'},\n",
              " {'image': '/content/sample_data/MedNIST/Hand/001351.jpeg'},\n",
              " {'image': '/content/sample_data/MedNIST/Hand/009611.jpeg'},\n",
              " {'image': '/content/sample_data/MedNIST/Hand/009352.jpeg'},\n",
              " {'image': '/content/sample_data/MedNIST/Hand/003821.jpeg'},\n",
              " {'image': '/content/sample_data/MedNIST/Hand/001168.jpeg'},\n",
              " {'image': '/content/sample_data/MedNIST/Hand/009325.jpeg'},\n",
              " {'image': '/content/sample_data/MedNIST/Hand/009508.jpeg'},\n",
              " {'image': '/content/sample_data/MedNIST/Hand/000624.jpeg'},\n",
              " {'image': '/content/sample_data/MedNIST/Hand/008636.jpeg'},\n",
              " {'image': '/content/sample_data/MedNIST/Hand/007381.jpeg'},\n",
              " {'image': '/content/sample_data/MedNIST/Hand/007674.jpeg'},\n",
              " {'image': '/content/sample_data/MedNIST/Hand/008199.jpeg'},\n",
              " {'image': '/content/sample_data/MedNIST/Hand/006919.jpeg'},\n",
              " {'image': '/content/sample_data/MedNIST/Hand/009824.jpeg'},\n",
              " {'image': '/content/sample_data/MedNIST/Hand/004441.jpeg'},\n",
              " {'image': '/content/sample_data/MedNIST/Hand/001550.jpeg'},\n",
              " {'image': '/content/sample_data/MedNIST/Hand/006393.jpeg'},\n",
              " {'image': '/content/sample_data/MedNIST/Hand/006097.jpeg'},\n",
              " {'image': '/content/sample_data/MedNIST/Hand/008880.jpeg'},\n",
              " {'image': '/content/sample_data/MedNIST/Hand/005481.jpeg'},\n",
              " {'image': '/content/sample_data/MedNIST/Hand/003908.jpeg'},\n",
              " {'image': '/content/sample_data/MedNIST/Hand/008323.jpeg'},\n",
              " {'image': '/content/sample_data/MedNIST/Hand/003627.jpeg'},\n",
              " {'image': '/content/sample_data/MedNIST/Hand/005431.jpeg'},\n",
              " {'image': '/content/sample_data/MedNIST/Hand/008050.jpeg'},\n",
              " {'image': '/content/sample_data/MedNIST/Hand/005231.jpeg'},\n",
              " {'image': '/content/sample_data/MedNIST/Hand/007197.jpeg'},\n",
              " {'image': '/content/sample_data/MedNIST/Hand/009700.jpeg'},\n",
              " {'image': '/content/sample_data/MedNIST/Hand/005528.jpeg'},\n",
              " {'image': '/content/sample_data/MedNIST/Hand/009718.jpeg'},\n",
              " {'image': '/content/sample_data/MedNIST/Hand/006303.jpeg'},\n",
              " {'image': '/content/sample_data/MedNIST/Hand/008976.jpeg'},\n",
              " {'image': '/content/sample_data/MedNIST/Hand/005987.jpeg'},\n",
              " {'image': '/content/sample_data/MedNIST/Hand/007740.jpeg'},\n",
              " {'image': '/content/sample_data/MedNIST/Hand/008838.jpeg'},\n",
              " {'image': '/content/sample_data/MedNIST/Hand/001120.jpeg'},\n",
              " {'image': '/content/sample_data/MedNIST/Hand/005531.jpeg'},\n",
              " {'image': '/content/sample_data/MedNIST/Hand/006399.jpeg'},\n",
              " {'image': '/content/sample_data/MedNIST/Hand/003730.jpeg'},\n",
              " {'image': '/content/sample_data/MedNIST/Hand/009710.jpeg'},\n",
              " {'image': '/content/sample_data/MedNIST/Hand/006199.jpeg'},\n",
              " {'image': '/content/sample_data/MedNIST/Hand/006703.jpeg'},\n",
              " {'image': '/content/sample_data/MedNIST/Hand/006355.jpeg'},\n",
              " {'image': '/content/sample_data/MedNIST/Hand/007926.jpeg'},\n",
              " {'image': '/content/sample_data/MedNIST/Hand/005590.jpeg'},\n",
              " {'image': '/content/sample_data/MedNIST/Hand/002735.jpeg'},\n",
              " {'image': '/content/sample_data/MedNIST/Hand/004335.jpeg'},\n",
              " {'image': '/content/sample_data/MedNIST/Hand/005632.jpeg'},\n",
              " {'image': '/content/sample_data/MedNIST/Hand/005658.jpeg'},\n",
              " {'image': '/content/sample_data/MedNIST/Hand/001393.jpeg'},\n",
              " {'image': '/content/sample_data/MedNIST/Hand/007165.jpeg'},\n",
              " {'image': '/content/sample_data/MedNIST/Hand/001673.jpeg'},\n",
              " {'image': '/content/sample_data/MedNIST/Hand/000724.jpeg'},\n",
              " {'image': '/content/sample_data/MedNIST/Hand/009623.jpeg'},\n",
              " {'image': '/content/sample_data/MedNIST/Hand/008570.jpeg'},\n",
              " {'image': '/content/sample_data/MedNIST/Hand/001873.jpeg'},\n",
              " {'image': '/content/sample_data/MedNIST/Hand/003326.jpeg'},\n",
              " {'image': '/content/sample_data/MedNIST/Hand/000856.jpeg'},\n",
              " {'image': '/content/sample_data/MedNIST/Hand/009335.jpeg'},\n",
              " {'image': '/content/sample_data/MedNIST/Hand/002846.jpeg'},\n",
              " {'image': '/content/sample_data/MedNIST/Hand/008216.jpeg'},\n",
              " {'image': '/content/sample_data/MedNIST/Hand/008528.jpeg'},\n",
              " {'image': '/content/sample_data/MedNIST/Hand/009079.jpeg'},\n",
              " {'image': '/content/sample_data/MedNIST/Hand/006324.jpeg'},\n",
              " {'image': '/content/sample_data/MedNIST/Hand/003813.jpeg'},\n",
              " {'image': '/content/sample_data/MedNIST/Hand/005486.jpeg'},\n",
              " {'image': '/content/sample_data/MedNIST/Hand/006351.jpeg'},\n",
              " {'image': '/content/sample_data/MedNIST/Hand/003904.jpeg'},\n",
              " {'image': '/content/sample_data/MedNIST/Hand/000174.jpeg'},\n",
              " {'image': '/content/sample_data/MedNIST/Hand/002105.jpeg'},\n",
              " {'image': '/content/sample_data/MedNIST/Hand/008377.jpeg'},\n",
              " {'image': '/content/sample_data/MedNIST/Hand/001754.jpeg'},\n",
              " {'image': '/content/sample_data/MedNIST/Hand/007383.jpeg'},\n",
              " {'image': '/content/sample_data/MedNIST/Hand/007466.jpeg'},\n",
              " {'image': '/content/sample_data/MedNIST/Hand/004645.jpeg'},\n",
              " {'image': '/content/sample_data/MedNIST/Hand/004911.jpeg'},\n",
              " {'image': '/content/sample_data/MedNIST/Hand/000326.jpeg'},\n",
              " {'image': '/content/sample_data/MedNIST/Hand/002704.jpeg'},\n",
              " {'image': '/content/sample_data/MedNIST/Hand/003081.jpeg'},\n",
              " {'image': '/content/sample_data/MedNIST/Hand/009678.jpeg'},\n",
              " {'image': '/content/sample_data/MedNIST/Hand/002000.jpeg'},\n",
              " {'image': '/content/sample_data/MedNIST/Hand/005088.jpeg'},\n",
              " {'image': '/content/sample_data/MedNIST/Hand/003000.jpeg'},\n",
              " {'image': '/content/sample_data/MedNIST/Hand/004714.jpeg'},\n",
              " {'image': '/content/sample_data/MedNIST/Hand/001307.jpeg'},\n",
              " {'image': '/content/sample_data/MedNIST/Hand/006575.jpeg'},\n",
              " {'image': '/content/sample_data/MedNIST/Hand/006000.jpeg'},\n",
              " {'image': '/content/sample_data/MedNIST/Hand/005773.jpeg'},\n",
              " {'image': '/content/sample_data/MedNIST/Hand/009096.jpeg'},\n",
              " {'image': '/content/sample_data/MedNIST/Hand/009821.jpeg'},\n",
              " {'image': '/content/sample_data/MedNIST/Hand/005443.jpeg'},\n",
              " {'image': '/content/sample_data/MedNIST/Hand/006954.jpeg'},\n",
              " {'image': '/content/sample_data/MedNIST/Hand/008495.jpeg'},\n",
              " {'image': '/content/sample_data/MedNIST/Hand/009556.jpeg'},\n",
              " {'image': '/content/sample_data/MedNIST/Hand/003255.jpeg'},\n",
              " {'image': '/content/sample_data/MedNIST/Hand/007145.jpeg'},\n",
              " {'image': '/content/sample_data/MedNIST/Hand/004790.jpeg'},\n",
              " {'image': '/content/sample_data/MedNIST/Hand/000418.jpeg'},\n",
              " {'image': '/content/sample_data/MedNIST/Hand/009850.jpeg'},\n",
              " {'image': '/content/sample_data/MedNIST/Hand/006030.jpeg'},\n",
              " {'image': '/content/sample_data/MedNIST/Hand/004476.jpeg'},\n",
              " {'image': '/content/sample_data/MedNIST/Hand/000445.jpeg'},\n",
              " {'image': '/content/sample_data/MedNIST/Hand/001178.jpeg'},\n",
              " {'image': '/content/sample_data/MedNIST/Hand/008233.jpeg'},\n",
              " {'image': '/content/sample_data/MedNIST/Hand/003897.jpeg'},\n",
              " {'image': '/content/sample_data/MedNIST/Hand/003976.jpeg'},\n",
              " {'image': '/content/sample_data/MedNIST/Hand/001935.jpeg'},\n",
              " {'image': '/content/sample_data/MedNIST/Hand/006981.jpeg'},\n",
              " {'image': '/content/sample_data/MedNIST/Hand/001878.jpeg'},\n",
              " {'image': '/content/sample_data/MedNIST/Hand/000620.jpeg'},\n",
              " {'image': '/content/sample_data/MedNIST/Hand/006786.jpeg'},\n",
              " {'image': '/content/sample_data/MedNIST/Hand/004110.jpeg'},\n",
              " {'image': '/content/sample_data/MedNIST/Hand/006881.jpeg'},\n",
              " {'image': '/content/sample_data/MedNIST/Hand/007650.jpeg'},\n",
              " {'image': '/content/sample_data/MedNIST/Hand/003359.jpeg'},\n",
              " {'image': '/content/sample_data/MedNIST/Hand/003589.jpeg'},\n",
              " {'image': '/content/sample_data/MedNIST/Hand/000502.jpeg'},\n",
              " {'image': '/content/sample_data/MedNIST/Hand/003329.jpeg'},\n",
              " {'image': '/content/sample_data/MedNIST/Hand/005744.jpeg'},\n",
              " {'image': '/content/sample_data/MedNIST/Hand/003273.jpeg'},\n",
              " {'image': '/content/sample_data/MedNIST/Hand/000135.jpeg'},\n",
              " {'image': '/content/sample_data/MedNIST/Hand/007072.jpeg'},\n",
              " {'image': '/content/sample_data/MedNIST/Hand/001124.jpeg'},\n",
              " {'image': '/content/sample_data/MedNIST/Hand/003849.jpeg'},\n",
              " {'image': '/content/sample_data/MedNIST/Hand/007448.jpeg'},\n",
              " {'image': '/content/sample_data/MedNIST/Hand/000176.jpeg'},\n",
              " {'image': '/content/sample_data/MedNIST/Hand/007795.jpeg'},\n",
              " {'image': '/content/sample_data/MedNIST/Hand/004783.jpeg'},\n",
              " {'image': '/content/sample_data/MedNIST/Hand/004031.jpeg'},\n",
              " {'image': '/content/sample_data/MedNIST/Hand/000668.jpeg'},\n",
              " {'image': '/content/sample_data/MedNIST/Hand/009069.jpeg'},\n",
              " {'image': '/content/sample_data/MedNIST/Hand/003234.jpeg'},\n",
              " {'image': '/content/sample_data/MedNIST/Hand/006913.jpeg'},\n",
              " {'image': '/content/sample_data/MedNIST/Hand/004509.jpeg'},\n",
              " {'image': '/content/sample_data/MedNIST/Hand/003261.jpeg'},\n",
              " {'image': '/content/sample_data/MedNIST/Hand/004151.jpeg'},\n",
              " {'image': '/content/sample_data/MedNIST/Hand/008517.jpeg'},\n",
              " {'image': '/content/sample_data/MedNIST/Hand/005398.jpeg'},\n",
              " {'image': '/content/sample_data/MedNIST/Hand/007748.jpeg'},\n",
              " {'image': '/content/sample_data/MedNIST/Hand/008514.jpeg'},\n",
              " {'image': '/content/sample_data/MedNIST/Hand/005748.jpeg'},\n",
              " {'image': '/content/sample_data/MedNIST/Hand/007147.jpeg'},\n",
              " {'image': '/content/sample_data/MedNIST/Hand/004280.jpeg'},\n",
              " {'image': '/content/sample_data/MedNIST/Hand/005937.jpeg'},\n",
              " {'image': '/content/sample_data/MedNIST/Hand/002155.jpeg'},\n",
              " {'image': '/content/sample_data/MedNIST/Hand/006590.jpeg'},\n",
              " {'image': '/content/sample_data/MedNIST/Hand/006015.jpeg'},\n",
              " {'image': '/content/sample_data/MedNIST/Hand/005776.jpeg'},\n",
              " {'image': '/content/sample_data/MedNIST/Hand/009003.jpeg'},\n",
              " {'image': '/content/sample_data/MedNIST/Hand/005889.jpeg'},\n",
              " {'image': '/content/sample_data/MedNIST/Hand/006972.jpeg'},\n",
              " {'image': '/content/sample_data/MedNIST/Hand/003997.jpeg'},\n",
              " {'image': '/content/sample_data/MedNIST/Hand/008259.jpeg'},\n",
              " {'image': '/content/sample_data/MedNIST/Hand/005225.jpeg'},\n",
              " {'image': '/content/sample_data/MedNIST/Hand/005786.jpeg'},\n",
              " {'image': '/content/sample_data/MedNIST/Hand/001207.jpeg'},\n",
              " {'image': '/content/sample_data/MedNIST/Hand/008860.jpeg'},\n",
              " {'image': '/content/sample_data/MedNIST/Hand/009646.jpeg'},\n",
              " {'image': '/content/sample_data/MedNIST/Hand/001223.jpeg'},\n",
              " {'image': '/content/sample_data/MedNIST/Hand/006210.jpeg'},\n",
              " {'image': '/content/sample_data/MedNIST/Hand/001586.jpeg'},\n",
              " {'image': '/content/sample_data/MedNIST/Hand/005070.jpeg'},\n",
              " {'image': '/content/sample_data/MedNIST/Hand/007761.jpeg'},\n",
              " {'image': '/content/sample_data/MedNIST/Hand/005625.jpeg'},\n",
              " {'image': '/content/sample_data/MedNIST/Hand/003408.jpeg'},\n",
              " {'image': '/content/sample_data/MedNIST/Hand/001849.jpeg'},\n",
              " {'image': '/content/sample_data/MedNIST/Hand/003275.jpeg'},\n",
              " {'image': '/content/sample_data/MedNIST/Hand/005160.jpeg'},\n",
              " {'image': '/content/sample_data/MedNIST/Hand/001252.jpeg'},\n",
              " {'image': '/content/sample_data/MedNIST/Hand/004786.jpeg'},\n",
              " {'image': '/content/sample_data/MedNIST/Hand/004999.jpeg'},\n",
              " {'image': '/content/sample_data/MedNIST/Hand/009146.jpeg'},\n",
              " {'image': '/content/sample_data/MedNIST/Hand/003782.jpeg'},\n",
              " {'image': '/content/sample_data/MedNIST/Hand/004046.jpeg'},\n",
              " {'image': '/content/sample_data/MedNIST/Hand/004055.jpeg'},\n",
              " {'image': '/content/sample_data/MedNIST/Hand/001002.jpeg'},\n",
              " {'image': '/content/sample_data/MedNIST/Hand/000484.jpeg'},\n",
              " {'image': '/content/sample_data/MedNIST/Hand/001027.jpeg'},\n",
              " {'image': '/content/sample_data/MedNIST/Hand/007962.jpeg'},\n",
              " {'image': '/content/sample_data/MedNIST/Hand/003492.jpeg'},\n",
              " {'image': '/content/sample_data/MedNIST/Hand/006194.jpeg'},\n",
              " {'image': '/content/sample_data/MedNIST/Hand/007112.jpeg'},\n",
              " {'image': '/content/sample_data/MedNIST/Hand/002910.jpeg'},\n",
              " {'image': '/content/sample_data/MedNIST/Hand/006737.jpeg'},\n",
              " {'image': '/content/sample_data/MedNIST/Hand/003014.jpeg'},\n",
              " {'image': '/content/sample_data/MedNIST/Hand/007053.jpeg'},\n",
              " {'image': '/content/sample_data/MedNIST/Hand/009471.jpeg'},\n",
              " {'image': '/content/sample_data/MedNIST/Hand/001121.jpeg'},\n",
              " {'image': '/content/sample_data/MedNIST/Hand/006930.jpeg'},\n",
              " {'image': '/content/sample_data/MedNIST/Hand/009073.jpeg'},\n",
              " {'image': '/content/sample_data/MedNIST/Hand/005101.jpeg'},\n",
              " {'image': '/content/sample_data/MedNIST/Hand/009808.jpeg'},\n",
              " {'image': '/content/sample_data/MedNIST/Hand/006501.jpeg'},\n",
              " {'image': '/content/sample_data/MedNIST/Hand/001843.jpeg'},\n",
              " {'image': '/content/sample_data/MedNIST/Hand/005742.jpeg'},\n",
              " {'image': '/content/sample_data/MedNIST/Hand/008642.jpeg'},\n",
              " {'image': '/content/sample_data/MedNIST/Hand/008468.jpeg'},\n",
              " {'image': '/content/sample_data/MedNIST/Hand/000804.jpeg'},\n",
              " {'image': '/content/sample_data/MedNIST/Hand/001181.jpeg'},\n",
              " {'image': '/content/sample_data/MedNIST/Hand/001049.jpeg'},\n",
              " {'image': '/content/sample_data/MedNIST/Hand/005996.jpeg'},\n",
              " {'image': '/content/sample_data/MedNIST/Hand/006481.jpeg'},\n",
              " {'image': '/content/sample_data/MedNIST/Hand/001735.jpeg'},\n",
              " {'image': '/content/sample_data/MedNIST/Hand/002130.jpeg'},\n",
              " {'image': '/content/sample_data/MedNIST/Hand/005199.jpeg'},\n",
              " {'image': '/content/sample_data/MedNIST/Hand/003358.jpeg'},\n",
              " {'image': '/content/sample_data/MedNIST/Hand/004237.jpeg'},\n",
              " {'image': '/content/sample_data/MedNIST/Hand/005791.jpeg'},\n",
              " {'image': '/content/sample_data/MedNIST/Hand/002610.jpeg'},\n",
              " {'image': '/content/sample_data/MedNIST/Hand/002026.jpeg'},\n",
              " {'image': '/content/sample_data/MedNIST/Hand/007169.jpeg'},\n",
              " {'image': '/content/sample_data/MedNIST/Hand/009207.jpeg'},\n",
              " {'image': '/content/sample_data/MedNIST/Hand/002408.jpeg'},\n",
              " {'image': '/content/sample_data/MedNIST/Hand/007889.jpeg'},\n",
              " {'image': '/content/sample_data/MedNIST/Hand/007632.jpeg'},\n",
              " {'image': '/content/sample_data/MedNIST/Hand/005497.jpeg'},\n",
              " {'image': '/content/sample_data/MedNIST/Hand/002749.jpeg'},\n",
              " {'image': '/content/sample_data/MedNIST/Hand/006467.jpeg'},\n",
              " {'image': '/content/sample_data/MedNIST/Hand/006922.jpeg'},\n",
              " {'image': '/content/sample_data/MedNIST/Hand/004904.jpeg'},\n",
              " {'image': '/content/sample_data/MedNIST/Hand/003889.jpeg'},\n",
              " {'image': '/content/sample_data/MedNIST/Hand/009669.jpeg'},\n",
              " {'image': '/content/sample_data/MedNIST/Hand/001581.jpeg'},\n",
              " {'image': '/content/sample_data/MedNIST/Hand/006177.jpeg'},\n",
              " {'image': '/content/sample_data/MedNIST/Hand/007836.jpeg'},\n",
              " {'image': '/content/sample_data/MedNIST/Hand/002711.jpeg'},\n",
              " {'image': '/content/sample_data/MedNIST/Hand/000952.jpeg'},\n",
              " {'image': '/content/sample_data/MedNIST/Hand/008189.jpeg'},\n",
              " {'image': '/content/sample_data/MedNIST/Hand/000657.jpeg'},\n",
              " {'image': '/content/sample_data/MedNIST/Hand/003625.jpeg'},\n",
              " {'image': '/content/sample_data/MedNIST/Hand/001799.jpeg'},\n",
              " {'image': '/content/sample_data/MedNIST/Hand/004396.jpeg'},\n",
              " {'image': '/content/sample_data/MedNIST/Hand/009362.jpeg'},\n",
              " {'image': '/content/sample_data/MedNIST/Hand/008305.jpeg'},\n",
              " {'image': '/content/sample_data/MedNIST/Hand/002982.jpeg'},\n",
              " {'image': '/content/sample_data/MedNIST/Hand/004145.jpeg'},\n",
              " {'image': '/content/sample_data/MedNIST/Hand/008144.jpeg'},\n",
              " {'image': '/content/sample_data/MedNIST/Hand/008198.jpeg'},\n",
              " {'image': '/content/sample_data/MedNIST/Hand/001674.jpeg'},\n",
              " {'image': '/content/sample_data/MedNIST/Hand/000922.jpeg'},\n",
              " {'image': '/content/sample_data/MedNIST/Hand/004830.jpeg'},\n",
              " {'image': '/content/sample_data/MedNIST/Hand/005243.jpeg'},\n",
              " {'image': '/content/sample_data/MedNIST/Hand/006008.jpeg'},\n",
              " {'image': '/content/sample_data/MedNIST/Hand/004519.jpeg'},\n",
              " {'image': '/content/sample_data/MedNIST/Hand/002261.jpeg'},\n",
              " {'image': '/content/sample_data/MedNIST/Hand/006773.jpeg'},\n",
              " {'image': '/content/sample_data/MedNIST/Hand/007776.jpeg'},\n",
              " {'image': '/content/sample_data/MedNIST/Hand/000559.jpeg'},\n",
              " {'image': '/content/sample_data/MedNIST/Hand/002062.jpeg'},\n",
              " {'image': '/content/sample_data/MedNIST/Hand/006285.jpeg'},\n",
              " {'image': '/content/sample_data/MedNIST/Hand/005588.jpeg'},\n",
              " {'image': '/content/sample_data/MedNIST/Hand/001277.jpeg'},\n",
              " {'image': '/content/sample_data/MedNIST/Hand/003465.jpeg'},\n",
              " {'image': '/content/sample_data/MedNIST/Hand/006268.jpeg'},\n",
              " {'image': '/content/sample_data/MedNIST/Hand/009763.jpeg'},\n",
              " {'image': '/content/sample_data/MedNIST/Hand/000733.jpeg'},\n",
              " {'image': '/content/sample_data/MedNIST/Hand/008582.jpeg'},\n",
              " {'image': '/content/sample_data/MedNIST/Hand/004176.jpeg'},\n",
              " {'image': '/content/sample_data/MedNIST/Hand/001007.jpeg'},\n",
              " {'image': '/content/sample_data/MedNIST/Hand/004739.jpeg'},\n",
              " {'image': '/content/sample_data/MedNIST/Hand/003616.jpeg'},\n",
              " {'image': '/content/sample_data/MedNIST/Hand/003654.jpeg'},\n",
              " {'image': '/content/sample_data/MedNIST/Hand/001741.jpeg'},\n",
              " {'image': '/content/sample_data/MedNIST/Hand/008784.jpeg'},\n",
              " {'image': '/content/sample_data/MedNIST/Hand/005893.jpeg'},\n",
              " {'image': '/content/sample_data/MedNIST/Hand/001999.jpeg'},\n",
              " {'image': '/content/sample_data/MedNIST/Hand/005587.jpeg'},\n",
              " {'image': '/content/sample_data/MedNIST/Hand/006202.jpeg'},\n",
              " {'image': '/content/sample_data/MedNIST/Hand/006715.jpeg'},\n",
              " {'image': '/content/sample_data/MedNIST/Hand/001666.jpeg'},\n",
              " {'image': '/content/sample_data/MedNIST/Hand/004011.jpeg'},\n",
              " {'image': '/content/sample_data/MedNIST/Hand/008868.jpeg'},\n",
              " {'image': '/content/sample_data/MedNIST/Hand/000972.jpeg'},\n",
              " {'image': '/content/sample_data/MedNIST/Hand/007216.jpeg'},\n",
              " {'image': '/content/sample_data/MedNIST/Hand/008525.jpeg'},\n",
              " {'image': '/content/sample_data/MedNIST/Hand/003045.jpeg'},\n",
              " {'image': '/content/sample_data/MedNIST/Hand/007619.jpeg'},\n",
              " {'image': '/content/sample_data/MedNIST/Hand/000581.jpeg'},\n",
              " {'image': '/content/sample_data/MedNIST/Hand/000140.jpeg'},\n",
              " {'image': '/content/sample_data/MedNIST/Hand/000250.jpeg'},\n",
              " {'image': '/content/sample_data/MedNIST/Hand/002132.jpeg'},\n",
              " {'image': '/content/sample_data/MedNIST/Hand/007387.jpeg'},\n",
              " {'image': '/content/sample_data/MedNIST/Hand/004606.jpeg'},\n",
              " {'image': '/content/sample_data/MedNIST/Hand/008767.jpeg'},\n",
              " {'image': '/content/sample_data/MedNIST/Hand/002177.jpeg'},\n",
              " {'image': '/content/sample_data/MedNIST/Hand/009702.jpeg'},\n",
              " {'image': '/content/sample_data/MedNIST/Hand/001525.jpeg'},\n",
              " {'image': '/content/sample_data/MedNIST/Hand/007414.jpeg'},\n",
              " {'image': '/content/sample_data/MedNIST/Hand/007347.jpeg'},\n",
              " {'image': '/content/sample_data/MedNIST/Hand/006122.jpeg'},\n",
              " {'image': '/content/sample_data/MedNIST/Hand/000958.jpeg'},\n",
              " {'image': '/content/sample_data/MedNIST/Hand/009279.jpeg'},\n",
              " {'image': '/content/sample_data/MedNIST/Hand/004201.jpeg'},\n",
              " {'image': '/content/sample_data/MedNIST/Hand/002827.jpeg'},\n",
              " {'image': '/content/sample_data/MedNIST/Hand/005642.jpeg'},\n",
              " {'image': '/content/sample_data/MedNIST/Hand/002851.jpeg'},\n",
              " {'image': '/content/sample_data/MedNIST/Hand/009054.jpeg'},\n",
              " {'image': '/content/sample_data/MedNIST/Hand/009665.jpeg'},\n",
              " {'image': '/content/sample_data/MedNIST/Hand/008424.jpeg'},\n",
              " {'image': '/content/sample_data/MedNIST/Hand/001157.jpeg'},\n",
              " {'image': '/content/sample_data/MedNIST/Hand/003602.jpeg'},\n",
              " {'image': '/content/sample_data/MedNIST/Hand/007614.jpeg'},\n",
              " {'image': '/content/sample_data/MedNIST/Hand/001443.jpeg'},\n",
              " {'image': '/content/sample_data/MedNIST/Hand/008065.jpeg'},\n",
              " {'image': '/content/sample_data/MedNIST/Hand/000974.jpeg'},\n",
              " {'image': '/content/sample_data/MedNIST/Hand/006302.jpeg'},\n",
              " {'image': '/content/sample_data/MedNIST/Hand/002678.jpeg'},\n",
              " {'image': '/content/sample_data/MedNIST/Hand/000587.jpeg'},\n",
              " {'image': '/content/sample_data/MedNIST/Hand/009589.jpeg'},\n",
              " {'image': '/content/sample_data/MedNIST/Hand/004875.jpeg'},\n",
              " {'image': '/content/sample_data/MedNIST/Hand/003190.jpeg'},\n",
              " {'image': '/content/sample_data/MedNIST/Hand/001852.jpeg'},\n",
              " {'image': '/content/sample_data/MedNIST/Hand/000379.jpeg'},\n",
              " {'image': '/content/sample_data/MedNIST/Hand/009666.jpeg'},\n",
              " {'image': '/content/sample_data/MedNIST/Hand/007901.jpeg'},\n",
              " {'image': '/content/sample_data/MedNIST/Hand/000727.jpeg'},\n",
              " {'image': '/content/sample_data/MedNIST/Hand/002881.jpeg'},\n",
              " {'image': '/content/sample_data/MedNIST/Hand/003021.jpeg'},\n",
              " {'image': '/content/sample_data/MedNIST/Hand/006252.jpeg'},\n",
              " {'image': '/content/sample_data/MedNIST/Hand/008347.jpeg'},\n",
              " {'image': '/content/sample_data/MedNIST/Hand/003410.jpeg'},\n",
              " {'image': '/content/sample_data/MedNIST/Hand/002524.jpeg'},\n",
              " {'image': '/content/sample_data/MedNIST/Hand/007007.jpeg'},\n",
              " {'image': '/content/sample_data/MedNIST/Hand/003937.jpeg'},\n",
              " {'image': '/content/sample_data/MedNIST/Hand/009475.jpeg'},\n",
              " {'image': '/content/sample_data/MedNIST/Hand/001974.jpeg'},\n",
              " {'image': '/content/sample_data/MedNIST/Hand/008162.jpeg'},\n",
              " {'image': '/content/sample_data/MedNIST/Hand/003748.jpeg'},\n",
              " {'image': '/content/sample_data/MedNIST/Hand/007618.jpeg'},\n",
              " {'image': '/content/sample_data/MedNIST/Hand/007005.jpeg'},\n",
              " {'image': '/content/sample_data/MedNIST/Hand/009308.jpeg'},\n",
              " {'image': '/content/sample_data/MedNIST/Hand/009577.jpeg'},\n",
              " {'image': '/content/sample_data/MedNIST/Hand/005444.jpeg'},\n",
              " {'image': '/content/sample_data/MedNIST/Hand/005690.jpeg'},\n",
              " {'image': '/content/sample_data/MedNIST/Hand/008034.jpeg'},\n",
              " {'image': '/content/sample_data/MedNIST/Hand/005448.jpeg'},\n",
              " {'image': '/content/sample_data/MedNIST/Hand/005732.jpeg'},\n",
              " {'image': '/content/sample_data/MedNIST/Hand/001053.jpeg'},\n",
              " {'image': '/content/sample_data/MedNIST/Hand/000150.jpeg'},\n",
              " {'image': '/content/sample_data/MedNIST/Hand/009775.jpeg'},\n",
              " {'image': '/content/sample_data/MedNIST/Hand/000536.jpeg'},\n",
              " {'image': '/content/sample_data/MedNIST/Hand/000808.jpeg'},\n",
              " {'image': '/content/sample_data/MedNIST/Hand/008709.jpeg'},\n",
              " {'image': '/content/sample_data/MedNIST/Hand/007848.jpeg'},\n",
              " {'image': '/content/sample_data/MedNIST/Hand/005882.jpeg'},\n",
              " {'image': '/content/sample_data/MedNIST/Hand/002164.jpeg'},\n",
              " {'image': '/content/sample_data/MedNIST/Hand/002098.jpeg'},\n",
              " {'image': '/content/sample_data/MedNIST/Hand/007254.jpeg'},\n",
              " {'image': '/content/sample_data/MedNIST/Hand/000207.jpeg'},\n",
              " {'image': '/content/sample_data/MedNIST/Hand/006623.jpeg'},\n",
              " {'image': '/content/sample_data/MedNIST/Hand/008474.jpeg'},\n",
              " {'image': '/content/sample_data/MedNIST/Hand/005813.jpeg'},\n",
              " {'image': '/content/sample_data/MedNIST/Hand/009546.jpeg'},\n",
              " {'image': '/content/sample_data/MedNIST/Hand/002666.jpeg'},\n",
              " {'image': '/content/sample_data/MedNIST/Hand/006721.jpeg'},\n",
              " {'image': '/content/sample_data/MedNIST/Hand/003050.jpeg'},\n",
              " {'image': '/content/sample_data/MedNIST/Hand/000847.jpeg'},\n",
              " {'image': '/content/sample_data/MedNIST/Hand/007943.jpeg'},\n",
              " {'image': '/content/sample_data/MedNIST/Hand/000512.jpeg'},\n",
              " {'image': '/content/sample_data/MedNIST/Hand/001765.jpeg'},\n",
              " {'image': '/content/sample_data/MedNIST/Hand/005210.jpeg'},\n",
              " {'image': '/content/sample_data/MedNIST/Hand/000965.jpeg'},\n",
              " {'image': '/content/sample_data/MedNIST/Hand/009528.jpeg'},\n",
              " {'image': '/content/sample_data/MedNIST/Hand/009241.jpeg'},\n",
              " {'image': '/content/sample_data/MedNIST/Hand/004457.jpeg'},\n",
              " {'image': '/content/sample_data/MedNIST/Hand/004653.jpeg'},\n",
              " {'image': '/content/sample_data/MedNIST/Hand/009217.jpeg'},\n",
              " {'image': '/content/sample_data/MedNIST/Hand/007925.jpeg'},\n",
              " {'image': '/content/sample_data/MedNIST/Hand/001568.jpeg'},\n",
              " {'image': '/content/sample_data/MedNIST/Hand/001876.jpeg'},\n",
              " {'image': '/content/sample_data/MedNIST/Hand/007246.jpeg'},\n",
              " {'image': '/content/sample_data/MedNIST/Hand/000017.jpeg'},\n",
              " {'image': '/content/sample_data/MedNIST/Hand/009550.jpeg'},\n",
              " {'image': '/content/sample_data/MedNIST/Hand/004755.jpeg'},\n",
              " {'image': '/content/sample_data/MedNIST/Hand/002324.jpeg'},\n",
              " {'image': '/content/sample_data/MedNIST/Hand/003148.jpeg'},\n",
              " {'image': '/content/sample_data/MedNIST/Hand/004029.jpeg'},\n",
              " {'image': '/content/sample_data/MedNIST/Hand/005192.jpeg'},\n",
              " {'image': '/content/sample_data/MedNIST/Hand/003544.jpeg'},\n",
              " {'image': '/content/sample_data/MedNIST/Hand/009103.jpeg'},\n",
              " {'image': '/content/sample_data/MedNIST/Hand/003287.jpeg'},\n",
              " {'image': '/content/sample_data/MedNIST/Hand/002508.jpeg'},\n",
              " {'image': '/content/sample_data/MedNIST/Hand/006341.jpeg'},\n",
              " {'image': '/content/sample_data/MedNIST/Hand/004577.jpeg'},\n",
              " {'image': '/content/sample_data/MedNIST/Hand/008270.jpeg'},\n",
              " {'image': '/content/sample_data/MedNIST/Hand/001199.jpeg'},\n",
              " {'image': '/content/sample_data/MedNIST/Hand/008646.jpeg'},\n",
              " {'image': '/content/sample_data/MedNIST/Hand/001646.jpeg'},\n",
              " {'image': '/content/sample_data/MedNIST/Hand/008558.jpeg'},\n",
              " {'image': '/content/sample_data/MedNIST/Hand/005098.jpeg'},\n",
              " {'image': '/content/sample_data/MedNIST/Hand/003246.jpeg'},\n",
              " {'image': '/content/sample_data/MedNIST/Hand/005226.jpeg'},\n",
              " {'image': '/content/sample_data/MedNIST/Hand/006074.jpeg'},\n",
              " {'image': '/content/sample_data/MedNIST/Hand/007203.jpeg'},\n",
              " {'image': '/content/sample_data/MedNIST/Hand/004037.jpeg'},\n",
              " {'image': '/content/sample_data/MedNIST/Hand/002379.jpeg'},\n",
              " {'image': '/content/sample_data/MedNIST/Hand/003485.jpeg'},\n",
              " {'image': '/content/sample_data/MedNIST/Hand/005986.jpeg'},\n",
              " {'image': '/content/sample_data/MedNIST/Hand/007152.jpeg'},\n",
              " {'image': '/content/sample_data/MedNIST/Hand/009390.jpeg'},\n",
              " {'image': '/content/sample_data/MedNIST/Hand/008602.jpeg'},\n",
              " {'image': '/content/sample_data/MedNIST/Hand/000214.jpeg'},\n",
              " {'image': '/content/sample_data/MedNIST/Hand/003716.jpeg'},\n",
              " {'image': '/content/sample_data/MedNIST/Hand/000540.jpeg'},\n",
              " {'image': '/content/sample_data/MedNIST/Hand/007413.jpeg'},\n",
              " {'image': '/content/sample_data/MedNIST/Hand/006629.jpeg'},\n",
              " {'image': '/content/sample_data/MedNIST/Hand/007367.jpeg'},\n",
              " {'image': '/content/sample_data/MedNIST/Hand/003574.jpeg'},\n",
              " {'image': '/content/sample_data/MedNIST/Hand/007444.jpeg'},\n",
              " {'image': '/content/sample_data/MedNIST/Hand/008831.jpeg'},\n",
              " {'image': '/content/sample_data/MedNIST/Hand/009004.jpeg'},\n",
              " {'image': '/content/sample_data/MedNIST/Hand/000652.jpeg'},\n",
              " {'image': '/content/sample_data/MedNIST/Hand/006604.jpeg'},\n",
              " {'image': '/content/sample_data/MedNIST/Hand/004685.jpeg'},\n",
              " {'image': '/content/sample_data/MedNIST/Hand/009901.jpeg'},\n",
              " {'image': '/content/sample_data/MedNIST/Hand/001769.jpeg'},\n",
              " {'image': '/content/sample_data/MedNIST/Hand/008750.jpeg'},\n",
              " {'image': '/content/sample_data/MedNIST/Hand/000147.jpeg'},\n",
              " {'image': '/content/sample_data/MedNIST/Hand/004998.jpeg'},\n",
              " {'image': '/content/sample_data/MedNIST/Hand/003678.jpeg'},\n",
              " {'image': '/content/sample_data/MedNIST/Hand/006009.jpeg'},\n",
              " {'image': '/content/sample_data/MedNIST/Hand/000256.jpeg'},\n",
              " {'image': '/content/sample_data/MedNIST/Hand/008322.jpeg'},\n",
              " {'image': '/content/sample_data/MedNIST/Hand/004336.jpeg'},\n",
              " {'image': '/content/sample_data/MedNIST/Hand/000629.jpeg'},\n",
              " {'image': '/content/sample_data/MedNIST/Hand/006566.jpeg'},\n",
              " {'image': '/content/sample_data/MedNIST/Hand/004989.jpeg'},\n",
              " {'image': '/content/sample_data/MedNIST/Hand/004785.jpeg'},\n",
              " {'image': '/content/sample_data/MedNIST/Hand/008382.jpeg'},\n",
              " {'image': '/content/sample_data/MedNIST/Hand/003222.jpeg'},\n",
              " {'image': '/content/sample_data/MedNIST/Hand/006460.jpeg'},\n",
              " {'image': '/content/sample_data/MedNIST/Hand/001264.jpeg'},\n",
              " {'image': '/content/sample_data/MedNIST/Hand/006071.jpeg'},\n",
              " {'image': '/content/sample_data/MedNIST/Hand/002374.jpeg'},\n",
              " {'image': '/content/sample_data/MedNIST/Hand/005993.jpeg'},\n",
              " {'image': '/content/sample_data/MedNIST/Hand/006115.jpeg'},\n",
              " {'image': '/content/sample_data/MedNIST/Hand/004430.jpeg'},\n",
              " {'image': '/content/sample_data/MedNIST/Hand/003456.jpeg'},\n",
              " {'image': '/content/sample_data/MedNIST/Hand/005000.jpeg'},\n",
              " {'image': '/content/sample_data/MedNIST/Hand/006782.jpeg'},\n",
              " {'image': '/content/sample_data/MedNIST/Hand/002674.jpeg'},\n",
              " {'image': '/content/sample_data/MedNIST/Hand/008818.jpeg'},\n",
              " {'image': '/content/sample_data/MedNIST/Hand/008261.jpeg'},\n",
              " {'image': '/content/sample_data/MedNIST/Hand/005439.jpeg'},\n",
              " {'image': '/content/sample_data/MedNIST/Hand/003312.jpeg'},\n",
              " {'image': '/content/sample_data/MedNIST/Hand/004308.jpeg'},\n",
              " {'image': '/content/sample_data/MedNIST/Hand/002523.jpeg'},\n",
              " {'image': '/content/sample_data/MedNIST/Hand/007519.jpeg'},\n",
              " {'image': '/content/sample_data/MedNIST/Hand/002116.jpeg'},\n",
              " {'image': '/content/sample_data/MedNIST/Hand/003053.jpeg'},\n",
              " {'image': '/content/sample_data/MedNIST/Hand/006178.jpeg'},\n",
              " {'image': '/content/sample_data/MedNIST/Hand/004938.jpeg'},\n",
              " {'image': '/content/sample_data/MedNIST/Hand/000328.jpeg'},\n",
              " {'image': '/content/sample_data/MedNIST/Hand/007913.jpeg'},\n",
              " {'image': '/content/sample_data/MedNIST/Hand/002544.jpeg'},\n",
              " {'image': '/content/sample_data/MedNIST/Hand/009585.jpeg'},\n",
              " {'image': '/content/sample_data/MedNIST/Hand/003209.jpeg'},\n",
              " {'image': '/content/sample_data/MedNIST/Hand/009109.jpeg'},\n",
              " {'image': '/content/sample_data/MedNIST/Hand/003333.jpeg'},\n",
              " {'image': '/content/sample_data/MedNIST/Hand/002104.jpeg'},\n",
              " {'image': '/content/sample_data/MedNIST/Hand/007460.jpeg'},\n",
              " {'image': '/content/sample_data/MedNIST/Hand/004332.jpeg'},\n",
              " {'image': '/content/sample_data/MedNIST/Hand/001317.jpeg'},\n",
              " {'image': '/content/sample_data/MedNIST/Hand/005734.jpeg'},\n",
              " {'image': '/content/sample_data/MedNIST/Hand/002375.jpeg'},\n",
              " {'image': '/content/sample_data/MedNIST/Hand/007636.jpeg'},\n",
              " {'image': '/content/sample_data/MedNIST/Hand/004735.jpeg'},\n",
              " {'image': '/content/sample_data/MedNIST/Hand/005984.jpeg'},\n",
              " {'image': '/content/sample_data/MedNIST/Hand/004296.jpeg'},\n",
              " {'image': '/content/sample_data/MedNIST/Hand/007532.jpeg'},\n",
              " {'image': '/content/sample_data/MedNIST/Hand/002232.jpeg'},\n",
              " {'image': '/content/sample_data/MedNIST/Hand/001433.jpeg'},\n",
              " {'image': '/content/sample_data/MedNIST/Hand/009907.jpeg'},\n",
              " {'image': '/content/sample_data/MedNIST/Hand/006088.jpeg'},\n",
              " {'image': '/content/sample_data/MedNIST/Hand/001780.jpeg'},\n",
              " {'image': '/content/sample_data/MedNIST/Hand/006190.jpeg'},\n",
              " {'image': '/content/sample_data/MedNIST/Hand/003547.jpeg'},\n",
              " {'image': '/content/sample_data/MedNIST/Hand/000713.jpeg'},\n",
              " {'image': '/content/sample_data/MedNIST/Hand/007400.jpeg'},\n",
              " {'image': '/content/sample_data/MedNIST/Hand/001771.jpeg'},\n",
              " {'image': '/content/sample_data/MedNIST/Hand/006790.jpeg'},\n",
              " {'image': '/content/sample_data/MedNIST/Hand/002343.jpeg'},\n",
              " {'image': '/content/sample_data/MedNIST/Hand/008966.jpeg'},\n",
              " {'image': '/content/sample_data/MedNIST/Hand/007087.jpeg'},\n",
              " {'image': '/content/sample_data/MedNIST/Hand/009277.jpeg'},\n",
              " {'image': '/content/sample_data/MedNIST/Hand/000117.jpeg'},\n",
              " {'image': '/content/sample_data/MedNIST/Hand/006801.jpeg'},\n",
              " {'image': '/content/sample_data/MedNIST/Hand/003051.jpeg'},\n",
              " {'image': '/content/sample_data/MedNIST/Hand/002165.jpeg'},\n",
              " {'image': '/content/sample_data/MedNIST/Hand/001135.jpeg'},\n",
              " {'image': '/content/sample_data/MedNIST/Hand/006484.jpeg'},\n",
              " {'image': '/content/sample_data/MedNIST/Hand/007018.jpeg'},\n",
              " {'image': '/content/sample_data/MedNIST/Hand/006418.jpeg'},\n",
              " {'image': '/content/sample_data/MedNIST/Hand/001404.jpeg'},\n",
              " {'image': '/content/sample_data/MedNIST/Hand/000934.jpeg'},\n",
              " {'image': '/content/sample_data/MedNIST/Hand/001375.jpeg'},\n",
              " {'image': '/content/sample_data/MedNIST/Hand/004674.jpeg'},\n",
              " {'image': '/content/sample_data/MedNIST/Hand/001984.jpeg'},\n",
              " {'image': '/content/sample_data/MedNIST/Hand/004127.jpeg'},\n",
              " {'image': '/content/sample_data/MedNIST/Hand/001316.jpeg'},\n",
              " {'image': '/content/sample_data/MedNIST/Hand/008657.jpeg'},\n",
              " {'image': '/content/sample_data/MedNIST/Hand/002236.jpeg'},\n",
              " {'image': '/content/sample_data/MedNIST/Hand/005035.jpeg'},\n",
              " {'image': '/content/sample_data/MedNIST/Hand/007045.jpeg'},\n",
              " {'image': '/content/sample_data/MedNIST/Hand/004159.jpeg'},\n",
              " {'image': '/content/sample_data/MedNIST/Hand/004158.jpeg'},\n",
              " {'image': '/content/sample_data/MedNIST/Hand/000684.jpeg'},\n",
              " {'image': '/content/sample_data/MedNIST/Hand/004045.jpeg'},\n",
              " {'image': '/content/sample_data/MedNIST/Hand/007570.jpeg'},\n",
              " {'image': '/content/sample_data/MedNIST/Hand/003732.jpeg'},\n",
              " {'image': '/content/sample_data/MedNIST/Hand/006238.jpeg'},\n",
              " {'image': '/content/sample_data/MedNIST/Hand/002209.jpeg'},\n",
              " {'image': '/content/sample_data/MedNIST/Hand/001752.jpeg'},\n",
              " {'image': '/content/sample_data/MedNIST/Hand/008295.jpeg'},\n",
              " {'image': '/content/sample_data/MedNIST/Hand/008774.jpeg'},\n",
              " {'image': '/content/sample_data/MedNIST/Hand/004638.jpeg'},\n",
              " {'image': '/content/sample_data/MedNIST/Hand/001910.jpeg'},\n",
              " {'image': '/content/sample_data/MedNIST/Hand/000141.jpeg'},\n",
              " {'image': '/content/sample_data/MedNIST/Hand/009033.jpeg'},\n",
              " {'image': '/content/sample_data/MedNIST/Hand/000651.jpeg'},\n",
              " {'image': '/content/sample_data/MedNIST/Hand/009733.jpeg'},\n",
              " {'image': '/content/sample_data/MedNIST/Hand/001009.jpeg'},\n",
              " {'image': '/content/sample_data/MedNIST/Hand/004095.jpeg'},\n",
              " {'image': '/content/sample_data/MedNIST/Hand/005396.jpeg'},\n",
              " {'image': '/content/sample_data/MedNIST/Hand/007616.jpeg'},\n",
              " {'image': '/content/sample_data/MedNIST/Hand/005314.jpeg'},\n",
              " {'image': '/content/sample_data/MedNIST/Hand/003325.jpeg'},\n",
              " {'image': '/content/sample_data/MedNIST/Hand/005689.jpeg'},\n",
              " {'image': '/content/sample_data/MedNIST/Hand/003228.jpeg'},\n",
              " {'image': '/content/sample_data/MedNIST/Hand/001582.jpeg'},\n",
              " {'image': '/content/sample_data/MedNIST/Hand/006244.jpeg'},\n",
              " {'image': '/content/sample_data/MedNIST/Hand/006841.jpeg'},\n",
              " {'image': '/content/sample_data/MedNIST/Hand/002186.jpeg'},\n",
              " {'image': '/content/sample_data/MedNIST/Hand/005306.jpeg'},\n",
              " {'image': '/content/sample_data/MedNIST/Hand/002502.jpeg'},\n",
              " {'image': '/content/sample_data/MedNIST/Hand/007085.jpeg'},\n",
              " {'image': '/content/sample_data/MedNIST/Hand/005867.jpeg'},\n",
              " {'image': '/content/sample_data/MedNIST/Hand/009465.jpeg'},\n",
              " {'image': '/content/sample_data/MedNIST/Hand/006931.jpeg'},\n",
              " {'image': '/content/sample_data/MedNIST/Hand/002746.jpeg'},\n",
              " {'image': '/content/sample_data/MedNIST/Hand/003059.jpeg'},\n",
              " {'image': '/content/sample_data/MedNIST/Hand/002708.jpeg'},\n",
              " {'image': '/content/sample_data/MedNIST/Hand/002585.jpeg'},\n",
              " {'image': '/content/sample_data/MedNIST/Hand/007788.jpeg'},\n",
              " {'image': '/content/sample_data/MedNIST/Hand/007293.jpeg'},\n",
              " {'image': '/content/sample_data/MedNIST/Hand/000323.jpeg'},\n",
              " {'image': '/content/sample_data/MedNIST/Hand/006059.jpeg'},\n",
              " {'image': '/content/sample_data/MedNIST/Hand/003008.jpeg'},\n",
              " {'image': '/content/sample_data/MedNIST/Hand/003080.jpeg'},\n",
              " {'image': '/content/sample_data/MedNIST/Hand/007380.jpeg'},\n",
              " {'image': '/content/sample_data/MedNIST/Hand/008870.jpeg'},\n",
              " {'image': '/content/sample_data/MedNIST/Hand/002392.jpeg'},\n",
              " {'image': '/content/sample_data/MedNIST/Hand/006003.jpeg'},\n",
              " {'image': '/content/sample_data/MedNIST/Hand/001839.jpeg'},\n",
              " {'image': '/content/sample_data/MedNIST/Hand/004859.jpeg'},\n",
              " {'image': '/content/sample_data/MedNIST/Hand/006435.jpeg'},\n",
              " {'image': '/content/sample_data/MedNIST/Hand/006348.jpeg'},\n",
              " {'image': '/content/sample_data/MedNIST/Hand/008762.jpeg'},\n",
              " {'image': '/content/sample_data/MedNIST/Hand/008532.jpeg'},\n",
              " {'image': '/content/sample_data/MedNIST/Hand/003591.jpeg'},\n",
              " {'image': '/content/sample_data/MedNIST/Hand/007774.jpeg'},\n",
              " {'image': '/content/sample_data/MedNIST/Hand/009368.jpeg'},\n",
              " {'image': '/content/sample_data/MedNIST/Hand/008137.jpeg'},\n",
              " {'image': '/content/sample_data/MedNIST/Hand/002681.jpeg'},\n",
              " {'image': '/content/sample_data/MedNIST/Hand/008264.jpeg'},\n",
              " {'image': '/content/sample_data/MedNIST/Hand/002993.jpeg'},\n",
              " {'image': '/content/sample_data/MedNIST/Hand/000432.jpeg'},\n",
              " {'image': '/content/sample_data/MedNIST/Hand/006670.jpeg'},\n",
              " {'image': '/content/sample_data/MedNIST/Hand/006726.jpeg'},\n",
              " {'image': '/content/sample_data/MedNIST/Hand/006788.jpeg'},\n",
              " {'image': '/content/sample_data/MedNIST/Hand/005406.jpeg'},\n",
              " {'image': '/content/sample_data/MedNIST/Hand/000224.jpeg'},\n",
              " {'image': '/content/sample_data/MedNIST/Hand/000573.jpeg'},\n",
              " {'image': '/content/sample_data/MedNIST/Hand/005926.jpeg'},\n",
              " {'image': '/content/sample_data/MedNIST/Hand/003135.jpeg'},\n",
              " {'image': '/content/sample_data/MedNIST/Hand/000625.jpeg'},\n",
              " {'image': '/content/sample_data/MedNIST/Hand/005635.jpeg'},\n",
              " {'image': '/content/sample_data/MedNIST/Hand/003606.jpeg'},\n",
              " {'image': '/content/sample_data/MedNIST/Hand/000115.jpeg'},\n",
              " {'image': '/content/sample_data/MedNIST/Hand/006234.jpeg'},\n",
              " {'image': '/content/sample_data/MedNIST/Hand/002501.jpeg'},\n",
              " {'image': '/content/sample_data/MedNIST/Hand/004986.jpeg'},\n",
              " {'image': '/content/sample_data/MedNIST/Hand/008488.jpeg'},\n",
              " {'image': '/content/sample_data/MedNIST/Hand/005730.jpeg'},\n",
              " {'image': '/content/sample_data/MedNIST/Hand/000795.jpeg'},\n",
              " {'image': '/content/sample_data/MedNIST/Hand/001709.jpeg'},\n",
              " {'image': '/content/sample_data/MedNIST/Hand/001822.jpeg'},\n",
              " {'image': '/content/sample_data/MedNIST/Hand/009769.jpeg'},\n",
              " {'image': '/content/sample_data/MedNIST/Hand/006233.jpeg'},\n",
              " {'image': '/content/sample_data/MedNIST/Hand/001371.jpeg'},\n",
              " {'image': '/content/sample_data/MedNIST/Hand/009399.jpeg'},\n",
              " {'image': '/content/sample_data/MedNIST/Hand/006078.jpeg'},\n",
              " ...]"
            ]
          },
          "metadata": {},
          "execution_count": 15
        }
      ]
    },
    {
      "cell_type": "code",
      "source": [
        "train_transforms = transforms.Compose(\n",
        "    [\n",
        "        transforms.LoadImaged(keys=[\"image\"]),\n",
        "        transforms.EnsureChannelFirstd(keys=[\"image\"]),\n",
        "        transforms.ScaleIntensityRanged(keys=[\"image\"], a_min=0.0, a_max=255.0, b_min=0.0, b_max=1.0, clip=True),\n",
        "        transforms.RandAffined(\n",
        "            keys=[\"image\"],\n",
        "            rotate_range=[(-np.pi / 36, np.pi / 36), (-np.pi / 36, np.pi / 36)],\n",
        "            translate_range=[(-1, 1), (-1, 1)],\n",
        "            scale_range=[(-0.05, 0.05), (-0.05, 0.05)],\n",
        "            spatial_size=[image_size, image_size],\n",
        "            padding_mode=\"zeros\",\n",
        "            prob=0.5,\n",
        "        ),\n",
        "    ]\n",
        ")"
      ],
      "metadata": {
        "id": "CogBMA3O_5_8"
      },
      "execution_count": null,
      "outputs": []
    },
    {
      "cell_type": "code",
      "source": [
        "train_ds = Dataset(data=train_datalist, transform=train_transforms)\n",
        "train_loader = DataLoader(train_ds, batch_size=64, shuffle=True, num_workers=4, persistent_workers=True)"
      ],
      "metadata": {
        "colab": {
          "base_uri": "https://localhost:8080/"
        },
        "id": "dH8yYJNYAqmZ",
        "outputId": "3c3b828a-f8e5-4a06-b4aa-e185c1308abc"
      },
      "execution_count": null,
      "outputs": [
        {
          "output_type": "stream",
          "name": "stderr",
          "text": [
            "/usr/local/lib/python3.11/dist-packages/torch/utils/data/dataloader.py:624: UserWarning: This DataLoader will create 4 worker processes in total. Our suggested max number of worker in current system is 2, which is smaller than what this DataLoader is going to create. Please be aware that excessive worker creation might get DataLoader running slow or even freeze, lower the worker number to avoid potential slowness/freeze if necessary.\n",
            "  warnings.warn(\n"
          ]
        }
      ]
    },
    {
      "cell_type": "markdown",
      "source": [
        "Visualize Examples"
      ],
      "metadata": {
        "id": "u1ZVqGEaIpad"
      }
    },
    {
      "cell_type": "code",
      "source": [
        "# Plotexamples from the training set\n",
        "check_data = first(train_loader)\n",
        "fig, ax = plt.subplots(nrows=1, ncols=5)\n",
        "for image_n in range(5):\n",
        "    ax[image_n].imshow(check_data[\"image\"][image_n, 0, :, :], cmap=\"gray\")\n",
        "    ax[image_n].axis(\"off\")"
      ],
      "metadata": {
        "colab": {
          "base_uri": "https://localhost:8080/",
          "height": 122
        },
        "id": "QTM1SUmbIoTV",
        "outputId": "5a2666c1-be1c-4531-aef8-b5b38abd50ad"
      },
      "execution_count": null,
      "outputs": [
        {
          "output_type": "display_data",
          "data": {
            "text/plain": [
              "<Figure size 640x480 with 5 Axes>"
            ],
            "image/png": "[encoded data removed]"
          },
          "metadata": {}
        }
      ]
    },
    {
      "cell_type": "markdown",
      "source": [
        "Validation Set Preparation\n"
      ],
      "metadata": {
        "id": "bXttzfn6I5gF"
      }
    },
    {
      "cell_type": "code",
      "source": [
        "val_data = MedNISTDataset(root_dir=root_dir, section=\"validation\", download=True, seed=0)\n",
        "val_datalist = [{\"image\": item[\"image\"]} for item in val_data.data if item[\"class_name\"] == \"Hand\"]\n",
        "val_transforms = transforms.Compose(\n",
        "    [\n",
        "        transforms.LoadImaged(keys=[\"image\"]),\n",
        "        transforms.EnsureChannelFirstd(keys=[\"image\"]),\n",
        "        transforms.ScaleIntensityRanged(keys=[\"image\"], a_min=0.0, a_max=255.0, b_min=0.0, b_max=1.0, clip=True),\n",
        "    ]\n",
        ")\n",
        "val_ds = Dataset(data=val_datalist, transform=val_transforms)\n",
        "val_loader = DataLoader(val_ds, batch_size=64, shuffle=True, num_workers=4, persistent_workers=True)"
      ],
      "metadata": {
        "colab": {
          "base_uri": "https://localhost:8080/"
        },
        "id": "D4Dt8mKcIL-B",
        "outputId": "55e78dd4-0588-404f-b5ae-8a18bf16aa4f"
      },
      "execution_count": null,
      "outputs": [
        {
          "output_type": "stream",
          "name": "stdout",
          "text": [
            "2025-07-21 14:35:53,893 - INFO - Verified 'MedNIST.tar.gz', md5: 0bc7306e7427e00ad1c5526a6677552d.\n",
            "2025-07-21 14:35:53,895 - INFO - File exists: /content/sample_data/MedNIST.tar.gz, skipped downloading.\n",
            "2025-07-21 14:35:53,895 - INFO - Non-empty folder exists in /content/sample_data/MedNIST, skipped extracting.\n"
          ]
        },
        {
          "output_type": "stream",
          "name": "stderr",
          "text": [
            "Loading dataset: 100%|██████████| 5895/5895 [00:07<00:00, 822.84it/s]\n"
          ]
        }
      ]
    },
    {
      "cell_type": "markdown",
      "source": [
        "**AUTOENCODE+KL**\n",
        "\n",
        "1)  Main purpose:  itcompresses images into a smaller \"latent space\" and can reconstruct them back\n",
        "\n",
        "2) why using: We can decrease the computational resources required to train the diffusion component, making this approach suitable for learning high-resolution medical images.\n"
      ],
      "metadata": {
        "id": "D4gZONYLW5E6"
      }
    },
    {
      "cell_type": "markdown",
      "source": [
        "Basic Architecture"
      ],
      "metadata": {
        "id": "4KLpiS6aYvl2"
      }
    },
    {
      "cell_type": "markdown",
      "source": [
        "INPUT: Hand X-ray (64×64×1)\n",
        "\n",
        "    ↓\n",
        "    \n",
        "ENCODER:\n",
        "    Conv Layer (1→128 channels) + 2 ResBlocks\n",
        "\n",
        "    ↓ (downsample)\n",
        "\n",
        "    Conv Layer (128→128 channels) + 2 ResBlocks  \n",
        "\n",
        "    ↓ (downsample)\n",
        "\n",
        "    Conv Layer (128→256 channels) + 2 ResBlocks\n",
        "    ↓\n",
        "\n",
        "LATENT SPACE: (8×8×3) - Compressed representation\n",
        "\n",
        "    ↓\n",
        "\n",
        "DECODER:\n",
        "\n",
        "    Conv Layer (256→128 channels) + 2 ResBlocks\n",
        "\n",
        "    ↓ (upsample)\n",
        "\n",
        "    Conv Layer (128→128 channels) + 2 ResBlocks\n",
        "\n",
        "    ↓ (upsample)  \n",
        "\n",
        "    Conv Layer (128→1 channels) + 2 ResBlocks\n",
        "\n",
        "    ↓\n",
        "\n",
        "OUTPUT: Reconstructed X-ray (64×64×1)"
      ],
      "metadata": {
        "id": "8OuytFESYyZm"
      }
    },
    {
      "cell_type": "code",
      "source": [
        "device = torch.device(\"cuda\")\n",
        "\n",
        "autoencoderkl = AutoencoderKL(\n",
        "    spatial_dims=2, #because our images are 2d, we can use spatial_dims=3 for 3d images like ct\n",
        "    in_channels=1,\n",
        "    out_channels=1,\n",
        "    num_channels=(128, 128, 256),\n",
        "    latent_channels=3,\n",
        "    num_res_blocks=2,\n",
        "    attention_levels=(False, False, False),\n",
        "    with_encoder_nonlocal_attn=False, #turned of attention at both levels only for purpose of faster training, will concurr some loss of mode capacity\n",
        "    with_decoder_nonlocal_attn=False,\n",
        ")\n",
        "autoencoderkl = autoencoderkl.to(device)"
      ],
      "metadata": {
        "id": "R9KcPdWpYBNo"
      },
      "execution_count": null,
      "outputs": []
    },
    {
      "cell_type": "code",
      "source": [
        "#perceptual loss: a loss function class (from monai) that measures how \"perceptually similar\" two images are to human vision,\n",
        "#rather than just pixel-by-pixel differences\n",
        "\n",
        "perceptual_loss = PerceptualLoss(spatial_dims=2, network_type=\"alex\")\n",
        "perceptual_loss.to(device)\n",
        "perceptual_weight = 0.001"
      ],
      "metadata": {
        "colab": {
          "base_uri": "https://localhost:8080/"
        },
        "id": "VpGY0dTEal_q",
        "outputId": "12047783-ec25-425d-d51f-6b9a01eb6065"
      },
      "execution_count": null,
      "outputs": [
        {
          "output_type": "stream",
          "name": "stderr",
          "text": [
            "/usr/local/lib/python3.11/dist-packages/torchvision/models/_utils.py:208: UserWarning: The parameter 'pretrained' is deprecated since 0.13 and may be removed in the future, please use 'weights' instead.\n",
            "  warnings.warn(\n",
            "/usr/local/lib/python3.11/dist-packages/torchvision/models/_utils.py:223: UserWarning: Arguments other than a weight enum or `None` for 'weights' are deprecated since 0.13 and may be removed in the future. The current behavior is equivalent to passing `weights=AlexNet_Weights.IMAGENET1K_V1`. You can also use `weights=AlexNet_Weights.DEFAULT` to get the most up-to-date weights.\n",
            "  warnings.warn(msg)\n",
            "Downloading: \"https://download.pytorch.org/models/alexnet-owt-7be5be79.pth\" to /root/.cache/torch/hub/checkpoints/alexnet-owt-7be5be79.pth\n",
            "100%|██████████| 233M/233M [00:01<00:00, 186MB/s]\n"
          ]
        }
      ]
    },
    {
      "cell_type": "code",
      "source": [
        "#PatchGAN discriminator that classifies image patches rather than whole images\n",
        "\n",
        "discriminator = PatchDiscriminator(spatial_dims=2, num_layers_d=3, num_channels=64, in_channels=1, out_channels=1)\n",
        "discriminator = discriminator.to(device)\n",
        "\n",
        "adv_loss = PatchAdversarialLoss(criterion=\"least_squares\")\n",
        "adv_weight = 0.01"
      ],
      "metadata": {
        "id": "PhMFGDUxb41x"
      },
      "execution_count": null,
      "outputs": []
    },
    {
      "cell_type": "code",
      "source": [
        "optimizer_g = torch.optim.Adam(autoencoderkl.parameters(), lr=1e-4)\n",
        "optimizer_d = torch.optim.Adam(discriminator.parameters(), lr=5e-4)\n",
        "\n",
        "# For mixed precision training\n",
        "scaler_g = torch.cuda.amp.GradScaler()\n",
        "scaler_d = torch.cuda.amp.GradScaler()"
      ],
      "metadata": {
        "colab": {
          "base_uri": "https://localhost:8080/"
        },
        "id": "B5BVlndwcPB-",
        "outputId": "49d89b61-808d-4f96-d78a-55948c56f9f0"
      },
      "execution_count": null,
      "outputs": [
        {
          "output_type": "stream",
          "name": "stderr",
          "text": [
            "/tmp/ipython-input-23-3349700240.py:5: FutureWarning: `torch.cuda.amp.GradScaler(args...)` is deprecated. Please use `torch.amp.GradScaler('cuda', args...)` instead.\n",
            "  scaler_g = torch.cuda.amp.GradScaler()\n",
            "/tmp/ipython-input-23-3349700240.py:6: FutureWarning: `torch.cuda.amp.GradScaler(args...)` is deprecated. Please use `torch.amp.GradScaler('cuda', args...)` instead.\n",
            "  scaler_d = torch.cuda.amp.GradScaler()\n"
          ]
        }
      ]
    },
    {
      "cell_type": "markdown",
      "source": [
        "Training"
      ],
      "metadata": {
        "id": "1yMMBW5Gcj4R"
      }
    },
    {
      "cell_type": "code",
      "source": [
        "kl_weight = 1e-6\n",
        "n_epochs = 100\n",
        "val_interval = 10\n",
        "autoencoder_warm_up_n_epochs = 10\n",
        "\n",
        "epoch_recon_losses = []\n",
        "epoch_gen_losses = []\n",
        "epoch_disc_losses = []\n",
        "val_recon_losses = []\n",
        "intermediary_images = []\n",
        "num_example_images = 4\n",
        "\n",
        "for epoch in range(n_epochs):\n",
        "    autoencoderkl.train()\n",
        "    discriminator.train()\n",
        "    epoch_loss = 0\n",
        "    gen_epoch_loss = 0\n",
        "    disc_epoch_loss = 0\n",
        "    progress_bar = tqdm(enumerate(train_loader), total=len(train_loader), ncols=110)\n",
        "    progress_bar.set_description(f\"Epoch {epoch}\")\n",
        "    for step, batch in progress_bar:\n",
        "        images = batch[\"image\"].to(device)\n",
        "        optimizer_g.zero_grad(set_to_none=True)\n",
        "\n",
        "    #Generator Training Step\n",
        "        with autocast(enabled=True):\n",
        "            reconstruction, z_mu, z_sigma = autoencoderkl(images)\n",
        "\n",
        "            recons_loss = F.l1_loss(reconstruction.float(), images.float())\n",
        "            p_loss = perceptual_loss(reconstruction.float(), images.float())\n",
        "            kl_loss = 0.5 * torch.sum(z_mu.pow(2) + z_sigma.pow(2) - torch.log(z_sigma.pow(2)) - 1, dim=[1, 2, 3])\n",
        "            kl_loss = torch.sum(kl_loss) / kl_loss.shape[0]\n",
        "            loss_g = recons_loss + (kl_weight * kl_loss) + (perceptual_weight * p_loss)\n",
        "\n",
        "            if epoch > autoencoder_warm_up_n_epochs:\n",
        "                logits_fake = discriminator(reconstruction.contiguous().float())[-1]\n",
        "                generator_loss = adv_loss(logits_fake, target_is_real=True, for_discriminator=False)\n",
        "                loss_g += adv_weight * generator_loss\n",
        "\n",
        "        scaler_g.scale(loss_g).backward()\n",
        "        scaler_g.step(optimizer_g)\n",
        "        scaler_g.update()\n",
        "\n",
        "      #Discriminator Training Step\n",
        "        if epoch > autoencoder_warm_up_n_epochs:\n",
        "            with autocast(enabled=True):\n",
        "                optimizer_d.zero_grad(set_to_none=True)\n",
        "\n",
        "                logits_fake = discriminator(reconstruction.contiguous().detach())[-1]\n",
        "                loss_d_fake = adv_loss(logits_fake, target_is_real=False, for_discriminator=True)\n",
        "                logits_real = discriminator(images.contiguous().detach())[-1]\n",
        "                loss_d_real = adv_loss(logits_real, target_is_real=True, for_discriminator=True)\n",
        "                discriminator_loss = (loss_d_fake + loss_d_real) * 0.5\n",
        "\n",
        "                loss_d = adv_weight * discriminator_loss\n",
        "\n",
        "            scaler_d.scale(loss_d).backward()\n",
        "            scaler_d.step(optimizer_d)\n",
        "            scaler_d.update()\n",
        "\n",
        "        epoch_loss += recons_loss.item()\n",
        "        if epoch > autoencoder_warm_up_n_epochs:\n",
        "            gen_epoch_loss += generator_loss.item()\n",
        "            disc_epoch_loss += discriminator_loss.item()\n",
        "\n",
        "        progress_bar.set_postfix(\n",
        "            {\n",
        "                \"recons_loss\": epoch_loss / (step + 1),\n",
        "                \"gen_loss\": gen_epoch_loss / (step + 1),\n",
        "                \"disc_loss\": disc_epoch_loss / (step + 1),\n",
        "            }\n",
        "        )\n",
        "    epoch_recon_losses.append(epoch_loss / (step + 1))\n",
        "    epoch_gen_losses.append(gen_epoch_loss / (step + 1))\n",
        "    epoch_disc_losses.append(disc_epoch_loss / (step + 1))\n",
        "\n",
        "    #Validation Loop\n",
        "\n",
        "    if (epoch + 1) % val_interval == 0:\n",
        "        autoencoderkl.eval()\n",
        "        val_loss = 0\n",
        "        with torch.no_grad():\n",
        "            for val_step, batch in enumerate(val_loader, start=1):\n",
        "                images = batch[\"image\"].to(device)\n",
        "\n",
        "                with autocast(enabled=True):\n",
        "                    reconstruction, z_mu, z_sigma = autoencoderkl(images)\n",
        "                    # Get the first reconstruction from the first validation batch for visualisation purposes\n",
        "                    if val_step == 1:\n",
        "                        intermediary_images.append(reconstruction[:num_example_images, 0])\n",
        "\n",
        "                    recons_loss = F.l1_loss(images.float(), reconstruction.float())\n",
        "\n",
        "                val_loss += recons_loss.item()\n",
        "\n",
        "        val_loss /= val_step\n",
        "        val_recon_losses.append(val_loss)\n",
        "        print(f\"epoch {epoch + 1} val loss: {val_loss:.4f}\")\n",
        "progress_bar.close()\n",
        "\n",
        "del discriminator\n",
        "del perceptual_loss\n",
        "torch.cuda.empty_cache()"
      ],
      "metadata": {
        "colab": {
          "base_uri": "https://localhost:8080/"
        },
        "id": "yjk-6CAsdBTJ",
        "outputId": "11b169a7-5e03-40e7-acff-d4c9888dbf61"
      },
      "execution_count": null,
      "outputs": [
        {
          "metadata": {
            "tags": null
          },
          "name": "stderr",
          "output_type": "stream",
          "text": [
            "Epoch 0:   0%|                                                                        | 0/125 [00:00<?, ?it/s]/tmp/ipython-input-24-416972369.py:26: FutureWarning: `torch.cuda.amp.autocast(args...)` is deprecated. Please use `torch.amp.autocast('cuda', args...)` instead.\n",
            "  with autocast(enabled=True):\n",
            "Epoch 0: 100%|██████████████████| 125/125 [00:49<00:00,  2.53it/s, recons_loss=0.102, gen_loss=0, disc_loss=0]\n",
            "Epoch 1: 100%|█████████████████| 125/125 [00:47<00:00,  2.61it/s, recons_loss=0.0453, gen_loss=0, disc_loss=0]\n",
            "Epoch 2: 100%|██████████████████| 125/125 [00:47<00:00,  2.64it/s, recons_loss=0.038, gen_loss=0, disc_loss=0]\n",
            "Epoch 3: 100%|█████████████████| 125/125 [00:47<00:00,  2.63it/s, recons_loss=0.0334, gen_loss=0, disc_loss=0]\n",
            "Epoch 4: 100%|█████████████████| 125/125 [00:47<00:00,  2.64it/s, recons_loss=0.0309, gen_loss=0, disc_loss=0]\n",
            "Epoch 5: 100%|█████████████████| 125/125 [00:47<00:00,  2.61it/s, recons_loss=0.0288, gen_loss=0, disc_loss=0]\n",
            "Epoch 6: 100%|█████████████████| 125/125 [00:47<00:00,  2.64it/s, recons_loss=0.0276, gen_loss=0, disc_loss=0]\n",
            "Epoch 7: 100%|█████████████████| 125/125 [00:47<00:00,  2.64it/s, recons_loss=0.0255, gen_loss=0, disc_loss=0]\n",
            "Epoch 8: 100%|██████████████████| 125/125 [00:47<00:00,  2.65it/s, recons_loss=0.025, gen_loss=0, disc_loss=0]\n",
            "Epoch 9: 100%|██████████████████| 125/125 [00:47<00:00,  2.62it/s, recons_loss=0.024, gen_loss=0, disc_loss=0]\n",
            "/tmp/ipython-input-24-416972369.py:86: FutureWarning: `torch.cuda.amp.autocast(args...)` is deprecated. Please use `torch.amp.autocast('cuda', args...)` instead.\n",
            "  with autocast(enabled=True):\n"
          ]
        },
        {
          "metadata": {
            "tags": null
          },
          "name": "stdout",
          "output_type": "stream",
          "text": [
            "epoch 10 val loss: 0.0244\n"
          ]
        },
        {
          "metadata": {
            "tags": null
          },
          "name": "stderr",
          "output_type": "stream",
          "text": [
            "Epoch 10: 100%|████████████████| 125/125 [00:47<00:00,  2.61it/s, recons_loss=0.0227, gen_loss=0, disc_loss=0]\n",
            "Epoch 11:   0%|                                                                       | 0/125 [00:00<?, ?it/s]/tmp/ipython-input-24-416972369.py:46: FutureWarning: `torch.cuda.amp.autocast(args...)` is deprecated. Please use `torch.amp.autocast('cuda', args...)` instead.\n",
            "  with autocast(enabled=True):\n",
            "Epoch 11: 100%|████████| 125/125 [00:52<00:00,  2.40it/s, recons_loss=0.0239, gen_loss=0.681, disc_loss=0.503]\n",
            "Epoch 12: 100%|█████████| 125/125 [00:51<00:00,  2.42it/s, recons_loss=0.0214, gen_loss=0.27, disc_loss=0.267]\n",
            "Epoch 13: 100%|████████| 125/125 [00:51<00:00,  2.41it/s, recons_loss=0.0208, gen_loss=0.258, disc_loss=0.256]\n",
            "Epoch 14: 100%|█████████| 125/125 [00:51<00:00,  2.41it/s, recons_loss=0.0203, gen_loss=0.26, disc_loss=0.257]\n",
            "Epoch 15: 100%|████████| 125/125 [00:51<00:00,  2.41it/s, recons_loss=0.0206, gen_loss=0.258, disc_loss=0.253]\n",
            "Epoch 16: 100%|████████| 125/125 [00:51<00:00,  2.41it/s, recons_loss=0.0194, gen_loss=0.268, disc_loss=0.257]\n",
            "Epoch 17: 100%|████████| 125/125 [00:51<00:00,  2.41it/s, recons_loss=0.0193, gen_loss=0.274, disc_loss=0.257]\n",
            "Epoch 18: 100%|████████| 125/125 [00:51<00:00,  2.42it/s, recons_loss=0.0185, gen_loss=0.283, disc_loss=0.254]\n",
            "Epoch 19: 100%|██████████| 125/125 [00:51<00:00,  2.42it/s, recons_loss=0.0187, gen_loss=0.3, disc_loss=0.246]\n"
          ]
        },
        {
          "metadata": {
            "tags": null
          },
          "name": "stdout",
          "output_type": "stream",
          "text": [
            "epoch 20 val loss: 0.0192\n"
          ]
        },
        {
          "metadata": {
            "tags": null
          },
          "name": "stderr",
          "output_type": "stream",
          "text": [
            "Epoch 20: 100%|████████| 125/125 [00:51<00:00,  2.42it/s, recons_loss=0.0185, gen_loss=0.325, disc_loss=0.265]\n",
            "Epoch 21: 100%|████████| 125/125 [00:51<00:00,  2.42it/s, recons_loss=0.0183, gen_loss=0.285, disc_loss=0.246]\n",
            "Epoch 22: 100%|████████| 125/125 [00:51<00:00,  2.42it/s, recons_loss=0.0176, gen_loss=0.318, disc_loss=0.265]\n",
            "Epoch 23: 100%|████████| 125/125 [00:51<00:00,  2.42it/s, recons_loss=0.0175, gen_loss=0.274, disc_loss=0.247]\n",
            "Epoch 24: 100%|█████████| 125/125 [00:51<00:00,  2.42it/s, recons_loss=0.017, gen_loss=0.278, disc_loss=0.248]\n",
            "Epoch 25: 100%|█████████| 125/125 [00:51<00:00,  2.42it/s, recons_loss=0.017, gen_loss=0.276, disc_loss=0.249]\n",
            "Epoch 26: 100%|██████████| 125/125 [00:52<00:00,  2.37it/s, recons_loss=0.0168, gen_loss=0.27, disc_loss=0.25]\n",
            "Epoch 27: 100%|█████████| 125/125 [00:52<00:00,  2.40it/s, recons_loss=0.0165, gen_loss=0.268, disc_loss=0.25]\n",
            "Epoch 28: 100%|█████████| 125/125 [00:51<00:00,  2.41it/s, recons_loss=0.0168, gen_loss=0.272, disc_loss=0.25]\n",
            "Epoch 29: 100%|████████| 125/125 [00:51<00:00,  2.41it/s, recons_loss=0.0162, gen_loss=0.276, disc_loss=0.249]\n"
          ]
        },
        {
          "metadata": {
            "tags": null
          },
          "name": "stdout",
          "output_type": "stream",
          "text": [
            "epoch 30 val loss: 0.0179\n"
          ]
        },
        {
          "metadata": {
            "tags": null
          },
          "name": "stderr",
          "output_type": "stream",
          "text": [
            "Epoch 30: 100%|████████| 125/125 [00:51<00:00,  2.42it/s, recons_loss=0.0162, gen_loss=0.276, disc_loss=0.249]\n",
            "Epoch 31: 100%|████████| 125/125 [00:51<00:00,  2.42it/s, recons_loss=0.0163, gen_loss=0.283, disc_loss=0.249]\n",
            "Epoch 32: 100%|████████| 125/125 [00:51<00:00,  2.42it/s, recons_loss=0.0159, gen_loss=0.292, disc_loss=0.246]\n",
            "Epoch 33: 100%|████████| 125/125 [00:51<00:00,  2.43it/s, recons_loss=0.0159, gen_loss=0.292, disc_loss=0.246]\n",
            "Epoch 34: 100%|████████| 125/125 [00:52<00:00,  2.39it/s, recons_loss=0.0156, gen_loss=0.285, disc_loss=0.246]\n",
            "Epoch 35: 100%|████████| 125/125 [00:51<00:00,  2.43it/s, recons_loss=0.0161, gen_loss=0.285, disc_loss=0.245]\n",
            "Epoch 36: 100%|████████| 125/125 [00:51<00:00,  2.42it/s, recons_loss=0.0156, gen_loss=0.295, disc_loss=0.245]\n",
            "Epoch 37: 100%|████████| 125/125 [00:51<00:00,  2.42it/s, recons_loss=0.0154, gen_loss=0.285, disc_loss=0.243]\n",
            "Epoch 38: 100%|██████████| 125/125 [00:51<00:00,  2.42it/s, recons_loss=0.0157, gen_loss=0.3, disc_loss=0.241]\n",
            "Epoch 39: 100%|█████████| 125/125 [00:51<00:00,  2.42it/s, recons_loss=0.0161, gen_loss=0.32, disc_loss=0.236]\n"
          ]
        },
        {
          "metadata": {
            "tags": null
          },
          "name": "stdout",
          "output_type": "stream",
          "text": [
            "epoch 40 val loss: 0.0172\n"
          ]
        },
        {
          "metadata": {
            "tags": null
          },
          "name": "stderr",
          "output_type": "stream",
          "text": [
            "Epoch 40: 100%|████████| 125/125 [00:52<00:00,  2.40it/s, recons_loss=0.0158, gen_loss=0.296, disc_loss=0.246]\n",
            "Epoch 41: 100%|████████| 125/125 [00:51<00:00,  2.41it/s, recons_loss=0.0155, gen_loss=0.293, disc_loss=0.243]\n",
            "Epoch 42: 100%|████████| 125/125 [00:51<00:00,  2.41it/s, recons_loss=0.0155, gen_loss=0.302, disc_loss=0.247]\n",
            "Epoch 43: 100%|█████████| 125/125 [00:52<00:00,  2.40it/s, recons_loss=0.0153, gen_loss=0.302, disc_loss=0.24]\n",
            "Epoch 44: 100%|████████| 125/125 [00:52<00:00,  2.39it/s, recons_loss=0.0154, gen_loss=0.296, disc_loss=0.243]\n",
            "Epoch 45: 100%|█████████| 125/125 [00:52<00:00,  2.40it/s, recons_loss=0.0151, gen_loss=0.298, disc_loss=0.24]\n",
            "Epoch 46: 100%|████████| 125/125 [00:52<00:00,  2.38it/s, recons_loss=0.0155, gen_loss=0.305, disc_loss=0.238]\n",
            "Epoch 47: 100%|████████| 125/125 [00:51<00:00,  2.42it/s, recons_loss=0.0155, gen_loss=0.305, disc_loss=0.242]\n",
            "Epoch 48: 100%|████████| 125/125 [00:51<00:00,  2.41it/s, recons_loss=0.0154, gen_loss=0.323, disc_loss=0.236]\n",
            "Epoch 49: 100%|█████████| 125/125 [00:51<00:00,  2.42it/s, recons_loss=0.0156, gen_loss=0.32, disc_loss=0.231]\n"
          ]
        },
        {
          "metadata": {
            "tags": null
          },
          "name": "stdout",
          "output_type": "stream",
          "text": [
            "epoch 50 val loss: 0.0175\n"
          ]
        },
        {
          "metadata": {
            "tags": null
          },
          "name": "stderr",
          "output_type": "stream",
          "text": [
            "Epoch 50: 100%|████████| 125/125 [00:51<00:00,  2.42it/s, recons_loss=0.0157, gen_loss=0.335, disc_loss=0.234]\n",
            "Epoch 51: 100%|████████| 125/125 [00:51<00:00,  2.41it/s, recons_loss=0.0157, gen_loss=0.357, disc_loss=0.215]\n",
            "Epoch 52: 100%|████████| 125/125 [00:52<00:00,  2.40it/s, recons_loss=0.0161, gen_loss=0.334, disc_loss=0.234]\n",
            "Epoch 53: 100%|█████████| 125/125 [00:51<00:00,  2.42it/s, recons_loss=0.016, gen_loss=0.381, disc_loss=0.229]\n",
            "Epoch 54: 100%|█████████| 125/125 [00:51<00:00,  2.42it/s, recons_loss=0.016, gen_loss=0.371, disc_loss=0.223]\n",
            "Epoch 55: 100%|████████| 125/125 [00:51<00:00,  2.42it/s, recons_loss=0.0162, gen_loss=0.375, disc_loss=0.211]\n",
            "Epoch 56: 100%|████████| 125/125 [00:51<00:00,  2.41it/s, recons_loss=0.0164, gen_loss=0.372, disc_loss=0.223]\n",
            "Epoch 57: 100%|████████| 125/125 [00:51<00:00,  2.41it/s, recons_loss=0.0163, gen_loss=0.357, disc_loss=0.236]\n",
            "Epoch 58: 100%|████████| 125/125 [00:51<00:00,  2.41it/s, recons_loss=0.0155, gen_loss=0.324, disc_loss=0.245]\n",
            "Epoch 59: 100%|█████████| 125/125 [00:52<00:00,  2.39it/s, recons_loss=0.016, gen_loss=0.358, disc_loss=0.211]\n"
          ]
        },
        {
          "metadata": {
            "tags": null
          },
          "name": "stdout",
          "output_type": "stream",
          "text": [
            "epoch 60 val loss: 0.0187\n"
          ]
        },
        {
          "metadata": {
            "tags": null
          },
          "name": "stderr",
          "output_type": "stream",
          "text": [
            "Epoch 60: 100%|████████| 125/125 [00:51<00:00,  2.41it/s, recons_loss=0.0162, gen_loss=0.376, disc_loss=0.221]\n",
            "Epoch 61: 100%|█████████| 125/125 [00:51<00:00,  2.41it/s, recons_loss=0.0159, gen_loss=0.366, disc_loss=0.23]\n",
            "Epoch 62: 100%|█████████| 125/125 [00:51<00:00,  2.42it/s, recons_loss=0.016, gen_loss=0.365, disc_loss=0.223]\n",
            "Epoch 63: 100%|████████| 125/125 [00:51<00:00,  2.42it/s, recons_loss=0.0157, gen_loss=0.353, disc_loss=0.231]\n",
            "Epoch 64: 100%|████████| 125/125 [00:51<00:00,  2.42it/s, recons_loss=0.0162, gen_loss=0.369, disc_loss=0.212]\n",
            "Epoch 65: 100%|████████| 125/125 [00:51<00:00,  2.41it/s, recons_loss=0.0159, gen_loss=0.352, disc_loss=0.235]\n",
            "Epoch 66: 100%|█████████| 125/125 [00:52<00:00,  2.39it/s, recons_loss=0.0159, gen_loss=0.38, disc_loss=0.225]\n",
            "Epoch 67: 100%|██████████| 125/125 [00:51<00:00,  2.42it/s, recons_loss=0.0162, gen_loss=0.4, disc_loss=0.209]\n",
            "Epoch 68: 100%|████████| 125/125 [00:51<00:00,  2.42it/s, recons_loss=0.0162, gen_loss=0.407, disc_loss=0.218]\n",
            "Epoch 69: 100%|████████| 125/125 [00:51<00:00,  2.42it/s, recons_loss=0.0163, gen_loss=0.407, disc_loss=0.202]\n"
          ]
        },
        {
          "metadata": {
            "tags": null
          },
          "name": "stdout",
          "output_type": "stream",
          "text": [
            "epoch 70 val loss: 0.0189\n"
          ]
        },
        {
          "metadata": {
            "tags": null
          },
          "name": "stderr",
          "output_type": "stream",
          "text": [
            "Epoch 70: 100%|████████| 125/125 [00:52<00:00,  2.40it/s, recons_loss=0.0165, gen_loss=0.404, disc_loss=0.234]\n",
            "Epoch 71: 100%|████████| 125/125 [00:51<00:00,  2.43it/s, recons_loss=0.0167, gen_loss=0.406, disc_loss=0.207]\n",
            "Epoch 72: 100%|████████| 125/125 [00:51<00:00,  2.43it/s, recons_loss=0.0161, gen_loss=0.385, disc_loss=0.217]\n",
            "Epoch 73: 100%|█████████| 125/125 [00:51<00:00,  2.42it/s, recons_loss=0.016, gen_loss=0.392, disc_loss=0.213]\n",
            "Epoch 74: 100%|████████| 125/125 [00:51<00:00,  2.43it/s, recons_loss=0.0157, gen_loss=0.358, disc_loss=0.223]\n",
            "Epoch 75: 100%|████████| 125/125 [00:51<00:00,  2.42it/s, recons_loss=0.0166, gen_loss=0.427, disc_loss=0.194]\n",
            "Epoch 76: 100%|████████| 125/125 [00:51<00:00,  2.41it/s, recons_loss=0.0169, gen_loss=0.422, disc_loss=0.201]\n",
            "Epoch 77: 100%|████████| 125/125 [00:51<00:00,  2.42it/s, recons_loss=0.0163, gen_loss=0.419, disc_loss=0.213]\n",
            "Epoch 78: 100%|████████| 125/125 [00:51<00:00,  2.43it/s, recons_loss=0.0161, gen_loss=0.426, disc_loss=0.201]\n",
            "Epoch 79: 100%|████████| 125/125 [00:51<00:00,  2.43it/s, recons_loss=0.0163, gen_loss=0.459, disc_loss=0.186]\n"
          ]
        },
        {
          "metadata": {
            "tags": null
          },
          "name": "stdout",
          "output_type": "stream",
          "text": [
            "epoch 80 val loss: 0.0184\n"
          ]
        },
        {
          "metadata": {
            "tags": null
          },
          "name": "stderr",
          "output_type": "stream",
          "text": [
            "Epoch 80: 100%|█████████| 125/125 [00:51<00:00,  2.43it/s, recons_loss=0.0167, gen_loss=0.45, disc_loss=0.208]\n",
            "Epoch 81: 100%|████████| 125/125 [00:51<00:00,  2.43it/s, recons_loss=0.0163, gen_loss=0.403, disc_loss=0.217]\n",
            "Epoch 82: 100%|████████| 125/125 [00:52<00:00,  2.40it/s, recons_loss=0.0163, gen_loss=0.434, disc_loss=0.195]\n",
            "Epoch 83: 100%|████████| 125/125 [00:51<00:00,  2.43it/s, recons_loss=0.0169, gen_loss=0.482, disc_loss=0.189]\n",
            "Epoch 84: 100%|█████████| 125/125 [00:51<00:00,  2.43it/s, recons_loss=0.0166, gen_loss=0.45, disc_loss=0.196]\n",
            "Epoch 85: 100%|████████| 125/125 [00:51<00:00,  2.42it/s, recons_loss=0.0164, gen_loss=0.453, disc_loss=0.199]\n",
            "Epoch 86: 100%|████████| 125/125 [00:51<00:00,  2.42it/s, recons_loss=0.0168, gen_loss=0.473, disc_loss=0.189]\n",
            "Epoch 87: 100%|████████| 125/125 [00:51<00:00,  2.43it/s, recons_loss=0.0161, gen_loss=0.449, disc_loss=0.186]\n",
            "Epoch 88: 100%|████████| 125/125 [00:52<00:00,  2.39it/s, recons_loss=0.0167, gen_loss=0.443, disc_loss=0.198]\n",
            "Epoch 89: 100%|█████████| 125/125 [00:51<00:00,  2.43it/s, recons_loss=0.0166, gen_loss=0.417, disc_loss=0.21]\n"
          ]
        },
        {
          "metadata": {
            "tags": null
          },
          "name": "stdout",
          "output_type": "stream",
          "text": [
            "epoch 90 val loss: 0.0196\n"
          ]
        },
        {
          "output_type": "stream",
          "name": "stderr",
          "text": [
            "Epoch 90: 100%|████████| 125/125 [00:51<00:00,  2.43it/s, recons_loss=0.0168, gen_loss=0.465, disc_loss=0.189]\n",
            "Epoch 91: 100%|█████████| 125/125 [00:51<00:00,  2.43it/s, recons_loss=0.017, gen_loss=0.462, disc_loss=0.191]\n",
            "Epoch 92: 100%|████████| 125/125 [00:51<00:00,  2.41it/s, recons_loss=0.0164, gen_loss=0.455, disc_loss=0.186]\n",
            "Epoch 93: 100%|████████| 125/125 [00:51<00:00,  2.41it/s, recons_loss=0.0165, gen_loss=0.444, disc_loss=0.199]\n",
            "Epoch 94: 100%|████████| 125/125 [00:51<00:00,  2.42it/s, recons_loss=0.0167, gen_loss=0.441, disc_loss=0.205]\n",
            "Epoch 95: 100%|████████| 125/125 [00:51<00:00,  2.43it/s, recons_loss=0.0163, gen_loss=0.461, disc_loss=0.188]\n",
            "Epoch 96: 100%|████████| 125/125 [00:51<00:00,  2.42it/s, recons_loss=0.0169, gen_loss=0.436, disc_loss=0.209]\n",
            "Epoch 97: 100%|█████████| 125/125 [00:51<00:00,  2.43it/s, recons_loss=0.017, gen_loss=0.481, disc_loss=0.177]\n",
            "Epoch 98: 100%|████████| 125/125 [00:51<00:00,  2.43it/s, recons_loss=0.0166, gen_loss=0.436, disc_loss=0.214]\n",
            "Epoch 99: 100%|████████| 125/125 [00:51<00:00,  2.43it/s, recons_loss=0.0162, gen_loss=0.434, disc_loss=0.203]\n"
          ]
        },
        {
          "output_type": "stream",
          "name": "stdout",
          "text": [
            "epoch 100 val loss: 0.0194\n"
          ]
        }
      ]
    },
    {
      "cell_type": "markdown",
      "source": [
        "## Visualise the results from the autoencoderKL"
      ],
      "metadata": {
        "id": "WZwBOQMyxkpC"
      }
    },
    {
      "cell_type": "code",
      "source": [
        "# Plot last 5 evaluations\n",
        "val_samples = np.linspace(n_epochs, val_interval, int(n_epochs / val_interval))\n",
        "fig, ax = plt.subplots(nrows=5, ncols=1, sharey=True)\n",
        "for image_n in range(5):\n",
        "    reconstructions = torch.reshape(intermediary_images[image_n], (image_size * num_example_images, image_size)).T\n",
        "    ax[image_n].imshow(reconstructions.cpu(), cmap=\"gray\")\n",
        "    ax[image_n].set_xticks([])\n",
        "    ax[image_n].set_yticks([])\n",
        "    ax[image_n].set_ylabel(f\"Epoch {val_samples[image_n]:.0f}\")"
      ],
      "metadata": {
        "colab": {
          "base_uri": "https://localhost:8080/",
          "height": 406
        },
        "id": "H_vzUwPaxg7J",
        "outputId": "372c2cd4-a93b-4e16-c45c-fef1cc4ed45c"
      },
      "execution_count": null,
      "outputs": [
        {
          "output_type": "display_data",
          "data": {
            "text/plain": [
              "<Figure size 640x480 with 5 Axes>"
            ],
            "image/png": "[encoded data removed]"
          },
          "metadata": {}
        }
      ]
    },
    {
      "cell_type": "markdown",
      "source": [
        "Diffusion Model"
      ],
      "metadata": {
        "id": "Ecg63o7YxzPT"
      }
    },
    {
      "cell_type": "code",
      "source": [
        "unet = DiffusionModelUNet(\n",
        "    spatial_dims=2,\n",
        "    in_channels=3,\n",
        "    out_channels=3,\n",
        "    num_res_blocks=2,\n",
        "    num_channels=(128, 256, 512),\n",
        "    attention_levels=(False, True, True),\n",
        "    num_head_channels=(0, 256, 512),\n",
        ")\n",
        "\n",
        "scheduler = DDPMScheduler(num_train_timesteps=1000, schedule=\"linear_beta\", beta_start=0.0015, beta_end=0.0195)"
      ],
      "metadata": {
        "id": "6WYrCylfxxD8"
      },
      "execution_count": null,
      "outputs": []
    },
    {
      "cell_type": "code",
      "source": [
        "#scaling factor will normalizes the latent space to have the right magnitude for diffusion training\n",
        "\n",
        "with torch.no_grad():\n",
        "    with autocast(enabled=True):\n",
        "        z = autoencoderkl.encode_stage_2_inputs(check_data[\"image\"].to(device))\n",
        "\n",
        "print(f\"Scaling factor set to {1/torch.std(z)}\")\n",
        "scale_factor = 1 / torch.std(z)"
      ],
      "metadata": {
        "colab": {
          "base_uri": "https://localhost:8080/"
        },
        "id": "HzSZYGaCynAW",
        "outputId": "c34dfb34-0390-4aad-8e85-cc03680495f0"
      },
      "execution_count": null,
      "outputs": [
        {
          "output_type": "stream",
          "name": "stdout",
          "text": [
            "Scaling factor set to 0.9616535902023315\n"
          ]
        },
        {
          "output_type": "stream",
          "name": "stderr",
          "text": [
            "/tmp/ipython-input-33-4278897399.py:4: FutureWarning: `torch.cuda.amp.autocast(args...)` is deprecated. Please use `torch.amp.autocast('cuda', args...)` instead.\n",
            "  with autocast(enabled=True):\n"
          ]
        }
      ]
    },
    {
      "cell_type": "markdown",
      "source": [],
      "metadata": {
        "id": "q0RxmE5pzXGe"
      }
    },
    {
      "cell_type": "code",
      "source": [
        "inferer = LatentDiffusionInferer(scheduler, scale_factor=scale_factor)\n",
        "\n",
        "\n",
        "# Full latent diffusion workflow:\n",
        "# images → autoencoder.encode → latents → scale → diffusion → unscale → autoencoder.decode → images\n",
        "#                                      ↑_____________inferer handles this part_____________↑"
      ],
      "metadata": {
        "id": "qrkfYVQ_zX2B"
      },
      "execution_count": null,
      "outputs": []
    },
    {
      "cell_type": "markdown",
      "source": [
        "Diffusion Model Training"
      ],
      "metadata": {
        "id": "AwTMcgaLz7MI"
      }
    },
    {
      "cell_type": "code",
      "source": [
        "optimizer = torch.optim.Adam(unet.parameters(), lr=1e-4)\n",
        "\n",
        "unet = unet.to(device)\n",
        "n_epochs = 200\n",
        "val_interval = 40\n",
        "epoch_losses = []\n",
        "val_losses = []\n",
        "scaler = GradScaler()\n",
        "\n",
        "for epoch in range(n_epochs):\n",
        "    unet.train()\n",
        "    autoencoderkl.eval()\n",
        "    epoch_loss = 0\n",
        "    progress_bar = tqdm(enumerate(train_loader), total=len(train_loader), ncols=70)\n",
        "    progress_bar.set_description(f\"Epoch {epoch}\")\n",
        "    for step, batch in progress_bar:\n",
        "        images = batch[\"image\"].to(device)\n",
        "        optimizer.zero_grad(set_to_none=True)\n",
        "        with autocast(enabled=True):\n",
        "            z_mu, z_sigma = autoencoderkl.encode(images)\n",
        "            z = autoencoderkl.sampling(z_mu, z_sigma)\n",
        "            noise = torch.randn_like(z).to(device)\n",
        "            timesteps = torch.randint(0, inferer.scheduler.num_train_timesteps, (z.shape[0],), device=z.device).long()\n",
        "            noise_pred = inferer(\n",
        "                inputs=images, diffusion_model=unet, noise=noise, timesteps=timesteps, autoencoder_model=autoencoderkl\n",
        "            )\n",
        "            loss = F.mse_loss(noise_pred.float(), noise.float())\n",
        "\n",
        "        scaler.scale(loss).backward()\n",
        "        scaler.step(optimizer)\n",
        "        scaler.update()\n",
        "\n",
        "        epoch_loss += loss.item()\n",
        "\n",
        "        progress_bar.set_postfix({\"loss\": epoch_loss / (step + 1)})\n",
        "    epoch_losses.append(epoch_loss / (step + 1))\n",
        "\n",
        "    if (epoch + 1) % val_interval == 0:\n",
        "        unet.eval()\n",
        "        val_loss = 0\n",
        "        with torch.no_grad():\n",
        "            for val_step, batch in enumerate(val_loader, start=1):\n",
        "                images = batch[\"image\"].to(device)\n",
        "\n",
        "                with autocast(enabled=True):\n",
        "                    z_mu, z_sigma = autoencoderkl.encode(images)\n",
        "                    z = autoencoderkl.sampling(z_mu, z_sigma)\n",
        "\n",
        "                    noise = torch.randn_like(z).to(device)\n",
        "                    timesteps = torch.randint(\n",
        "                        0, inferer.scheduler.num_train_timesteps, (z.shape[0],), device=z.device\n",
        "                    ).long()\n",
        "                    noise_pred = inferer(\n",
        "                        inputs=images,\n",
        "                        diffusion_model=unet,\n",
        "                        noise=noise,\n",
        "                        timesteps=timesteps,\n",
        "                        autoencoder_model=autoencoderkl,\n",
        "                    )\n",
        "\n",
        "                    loss = F.mse_loss(noise_pred.float(), noise.float())\n",
        "\n",
        "                val_loss += loss.item()\n",
        "        val_loss /= val_step\n",
        "        val_losses.append(val_loss)\n",
        "        print(f\"Epoch {epoch} val loss: {val_loss:.4f}\")\n",
        "\n",
        "        # Sampling image during training\n",
        "        z = torch.randn((1, 3, 16, 16))\n",
        "        z = z.to(device)\n",
        "        scheduler.set_timesteps(num_inference_steps=1000)\n",
        "        with autocast(enabled=True):\n",
        "            decoded = inferer.sample(\n",
        "                input_noise=z, diffusion_model=unet, scheduler=scheduler, autoencoder_model=autoencoderkl\n",
        "            )\n",
        "\n",
        "        plt.figure(figsize=(2, 2))\n",
        "        plt.style.use(\"default\")\n",
        "        plt.imshow(decoded[0, 0].detach().cpu(), vmin=0, vmax=1, cmap=\"gray\")\n",
        "        plt.tight_layout()\n",
        "        plt.axis(\"off\")\n",
        "        plt.show()\n",
        "progress_bar.close()\n"
      ],
      "metadata": {
        "colab": {
          "base_uri": "https://localhost:8080/",
          "height": 1000
        },
        "id": "jojH_-Blz3nb",
        "outputId": "3bcab7ee-aa8e-44b7-d1f2-34336fe5296b"
      },
      "execution_count": 35,
      "outputs": [
        {
          "output_type": "stream",
          "name": "stderr",
          "text": [
            "/tmp/ipython-input-35-589666343.py:8: FutureWarning: `torch.cuda.amp.GradScaler(args...)` is deprecated. Please use `torch.amp.GradScaler('cuda', args...)` instead.\n",
            "  scaler = GradScaler()\n",
            "Epoch 0:   0%|                                | 0/125 [00:00<?, ?it/s]/tmp/ipython-input-35-589666343.py:19: FutureWarning: `torch.cuda.amp.autocast(args...)` is deprecated. Please use `torch.amp.autocast('cuda', args...)` instead.\n",
            "  with autocast(enabled=True):\n",
            "Epoch 0: 100%|██████████| 125/125 [00:35<00:00,  3.52it/s, loss=0.395]\n",
            "Epoch 1: 100%|██████████| 125/125 [00:35<00:00,  3.49it/s, loss=0.163]\n",
            "Epoch 2: 100%|██████████| 125/125 [00:35<00:00,  3.56it/s, loss=0.151]\n",
            "Epoch 3: 100%|███████████| 125/125 [00:35<00:00,  3.50it/s, loss=0.15]\n",
            "Epoch 4: 100%|██████████| 125/125 [00:35<00:00,  3.49it/s, loss=0.144]\n",
            "Epoch 5: 100%|██████████| 125/125 [00:36<00:00,  3.45it/s, loss=0.143]\n",
            "Epoch 6: 100%|██████████| 125/125 [00:35<00:00,  3.55it/s, loss=0.141]\n",
            "Epoch 7: 100%|██████████| 125/125 [00:35<00:00,  3.53it/s, loss=0.132]\n",
            "Epoch 8: 100%|██████████| 125/125 [00:35<00:00,  3.48it/s, loss=0.132]\n",
            "Epoch 9: 100%|██████████| 125/125 [00:35<00:00,  3.49it/s, loss=0.132]\n",
            "Epoch 10: 100%|██████████| 125/125 [00:35<00:00,  3.53it/s, loss=0.13]\n",
            "Epoch 11: 100%|█████████| 125/125 [00:35<00:00,  3.50it/s, loss=0.131]\n",
            "Epoch 12: 100%|█████████| 125/125 [00:35<00:00,  3.53it/s, loss=0.126]\n",
            "Epoch 13: 100%|█████████| 125/125 [00:35<00:00,  3.52it/s, loss=0.129]\n",
            "Epoch 14: 100%|█████████| 125/125 [00:35<00:00,  3.55it/s, loss=0.127]\n",
            "Epoch 15: 100%|█████████| 125/125 [00:36<00:00,  3.46it/s, loss=0.132]\n",
            "Epoch 16: 100%|█████████| 125/125 [00:36<00:00,  3.45it/s, loss=0.126]\n",
            "Epoch 17: 100%|█████████| 125/125 [00:35<00:00,  3.48it/s, loss=0.125]\n",
            "Epoch 18: 100%|█████████| 125/125 [00:35<00:00,  3.53it/s, loss=0.125]\n",
            "Epoch 19: 100%|█████████| 125/125 [00:36<00:00,  3.45it/s, loss=0.126]\n",
            "Epoch 20: 100%|█████████| 125/125 [00:36<00:00,  3.46it/s, loss=0.125]\n",
            "Epoch 21: 100%|█████████| 125/125 [00:35<00:00,  3.52it/s, loss=0.126]\n",
            "Epoch 22: 100%|█████████| 125/125 [00:35<00:00,  3.56it/s, loss=0.125]\n",
            "Epoch 23: 100%|█████████| 125/125 [00:35<00:00,  3.50it/s, loss=0.125]\n",
            "Epoch 24: 100%|█████████| 125/125 [00:35<00:00,  3.52it/s, loss=0.124]\n",
            "Epoch 25: 100%|█████████| 125/125 [00:35<00:00,  3.54it/s, loss=0.127]\n",
            "Epoch 26: 100%|█████████| 125/125 [00:34<00:00,  3.58it/s, loss=0.121]\n",
            "Epoch 27: 100%|█████████| 125/125 [00:36<00:00,  3.46it/s, loss=0.121]\n",
            "Epoch 28: 100%|█████████| 125/125 [00:35<00:00,  3.51it/s, loss=0.124]\n",
            "Epoch 29: 100%|█████████| 125/125 [00:34<00:00,  3.59it/s, loss=0.121]\n",
            "Epoch 30: 100%|█████████| 125/125 [00:35<00:00,  3.56it/s, loss=0.123]\n",
            "Epoch 31: 100%|█████████| 125/125 [00:35<00:00,  3.51it/s, loss=0.124]\n",
            "Epoch 32: 100%|█████████| 125/125 [00:35<00:00,  3.52it/s, loss=0.121]\n",
            "Epoch 33: 100%|█████████| 125/125 [00:34<00:00,  3.58it/s, loss=0.122]\n",
            "Epoch 34: 100%|█████████| 125/125 [00:35<00:00,  3.52it/s, loss=0.121]\n",
            "Epoch 35: 100%|█████████| 125/125 [00:35<00:00,  3.50it/s, loss=0.123]\n",
            "Epoch 36: 100%|██████████| 125/125 [00:35<00:00,  3.52it/s, loss=0.12]\n",
            "Epoch 37: 100%|█████████| 125/125 [00:34<00:00,  3.57it/s, loss=0.119]\n",
            "Epoch 38: 100%|█████████| 125/125 [00:35<00:00,  3.48it/s, loss=0.123]\n",
            "Epoch 39: 100%|█████████| 125/125 [00:35<00:00,  3.50it/s, loss=0.123]\n",
            "/tmp/ipython-input-35-589666343.py:45: FutureWarning: `torch.cuda.amp.autocast(args...)` is deprecated. Please use `torch.amp.autocast('cuda', args...)` instead.\n",
            "  with autocast(enabled=True):\n",
            "/tmp/ipython-input-35-589666343.py:72: FutureWarning: `torch.cuda.amp.autocast(args...)` is deprecated. Please use `torch.amp.autocast('cuda', args...)` instead.\n",
            "  with autocast(enabled=True):\n"
          ]
        },
        {
          "output_type": "stream",
          "name": "stdout",
          "text": [
            "Epoch 39 val loss: 0.1217\n"
          ]
        },
        {
          "output_type": "stream",
          "name": "stderr",
          "text": [
            "100%|██████████| 1000/1000 [00:22<00:00, 43.70it/s]\n"
          ]
        },
        {
          "output_type": "display_data",
          "data": {
            "text/plain": [
              "<Figure size 200x200 with 1 Axes>"
            ],
            "image/png": "[encoded data removed]"
          },
          "metadata": {}
        },
        {
          "output_type": "stream",
          "name": "stderr",
          "text": [
            "Epoch 40:   0%|                               | 0/125 [00:00<?, ?it/s]/tmp/ipython-input-35-589666343.py:19: FutureWarning: `torch.cuda.amp.autocast(args...)` is deprecated. Please use `torch.amp.autocast('cuda', args...)` instead.\n",
            "  with autocast(enabled=True):\n",
            "Epoch 40: 100%|█████████| 125/125 [00:35<00:00,  3.55it/s, loss=0.124]\n",
            "Epoch 41: 100%|██████████| 125/125 [00:35<00:00,  3.57it/s, loss=0.12]\n",
            "Epoch 42: 100%|█████████| 125/125 [00:36<00:00,  3.47it/s, loss=0.121]\n",
            "Epoch 43: 100%|█████████| 125/125 [00:35<00:00,  3.52it/s, loss=0.121]\n",
            "Epoch 44: 100%|█████████| 125/125 [00:35<00:00,  3.52it/s, loss=0.122]\n",
            "Epoch 45: 100%|█████████| 125/125 [00:35<00:00,  3.56it/s, loss=0.118]\n",
            "Epoch 46: 100%|█████████| 125/125 [00:35<00:00,  3.51it/s, loss=0.121]\n",
            "Epoch 47: 100%|█████████| 125/125 [00:35<00:00,  3.50it/s, loss=0.122]\n",
            "Epoch 48: 100%|██████████| 125/125 [00:35<00:00,  3.52it/s, loss=0.12]\n",
            "Epoch 49: 100%|█████████| 125/125 [00:35<00:00,  3.57it/s, loss=0.124]\n",
            "Epoch 50: 100%|██████████| 125/125 [00:35<00:00,  3.49it/s, loss=0.12]\n",
            "Epoch 51: 100%|█████████| 125/125 [00:35<00:00,  3.51it/s, loss=0.119]\n",
            "Epoch 52: 100%|█████████| 125/125 [00:35<00:00,  3.48it/s, loss=0.123]\n",
            "Epoch 53: 100%|██████████| 125/125 [00:35<00:00,  3.56it/s, loss=0.12]\n",
            "Epoch 54: 100%|█████████| 125/125 [00:36<00:00,  3.47it/s, loss=0.124]\n",
            "Epoch 55: 100%|█████████| 125/125 [00:35<00:00,  3.49it/s, loss=0.121]\n",
            "Epoch 56: 100%|█████████| 125/125 [00:34<00:00,  3.59it/s, loss=0.123]\n",
            "Epoch 57: 100%|██████████| 125/125 [00:35<00:00,  3.57it/s, loss=0.12]\n",
            "Epoch 58: 100%|█████████| 125/125 [00:35<00:00,  3.52it/s, loss=0.118]\n",
            "Epoch 59: 100%|█████████| 125/125 [00:35<00:00,  3.51it/s, loss=0.118]\n",
            "Epoch 60: 100%|█████████| 125/125 [00:34<00:00,  3.58it/s, loss=0.119]\n",
            "Epoch 61: 100%|█████████| 125/125 [00:35<00:00,  3.52it/s, loss=0.117]\n",
            "Epoch 62: 100%|█████████| 125/125 [00:35<00:00,  3.53it/s, loss=0.123]\n",
            "Epoch 63: 100%|█████████| 125/125 [00:35<00:00,  3.54it/s, loss=0.119]\n",
            "Epoch 64: 100%|█████████| 125/125 [00:34<00:00,  3.59it/s, loss=0.122]\n",
            "Epoch 65: 100%|█████████| 125/125 [00:36<00:00,  3.47it/s, loss=0.119]\n",
            "Epoch 66: 100%|█████████| 125/125 [00:36<00:00,  3.47it/s, loss=0.118]\n",
            "Epoch 67: 100%|█████████| 125/125 [00:35<00:00,  3.56it/s, loss=0.116]\n",
            "Epoch 68: 100%|█████████| 125/125 [00:35<00:00,  3.53it/s, loss=0.117]\n",
            "Epoch 69: 100%|██████████| 125/125 [00:36<00:00,  3.45it/s, loss=0.12]\n",
            "Epoch 70: 100%|█████████| 125/125 [00:35<00:00,  3.50it/s, loss=0.119]\n",
            "Epoch 71: 100%|██████████| 125/125 [00:34<00:00,  3.58it/s, loss=0.12]\n",
            "Epoch 72: 100%|█████████| 125/125 [00:35<00:00,  3.54it/s, loss=0.117]\n",
            "Epoch 73: 100%|█████████| 125/125 [00:35<00:00,  3.52it/s, loss=0.114]\n",
            "Epoch 74: 100%|█████████| 125/125 [00:35<00:00,  3.50it/s, loss=0.114]\n",
            "Epoch 75: 100%|█████████| 125/125 [00:35<00:00,  3.57it/s, loss=0.115]\n",
            "Epoch 76: 100%|█████████| 125/125 [00:35<00:00,  3.53it/s, loss=0.119]\n",
            "Epoch 77: 100%|█████████| 125/125 [00:35<00:00,  3.53it/s, loss=0.114]\n",
            "Epoch 78: 100%|█████████| 125/125 [00:35<00:00,  3.50it/s, loss=0.114]\n",
            "Epoch 79: 100%|█████████| 125/125 [00:35<00:00,  3.57it/s, loss=0.115]\n",
            "/tmp/ipython-input-35-589666343.py:45: FutureWarning: `torch.cuda.amp.autocast(args...)` is deprecated. Please use `torch.amp.autocast('cuda', args...)` instead.\n",
            "  with autocast(enabled=True):\n",
            "/tmp/ipython-input-35-589666343.py:72: FutureWarning: `torch.cuda.amp.autocast(args...)` is deprecated. Please use `torch.amp.autocast('cuda', args...)` instead.\n",
            "  with autocast(enabled=True):\n"
          ]
        },
        {
          "output_type": "stream",
          "name": "stdout",
          "text": [
            "Epoch 79 val loss: 0.1115\n"
          ]
        },
        {
          "output_type": "stream",
          "name": "stderr",
          "text": [
            "100%|██████████| 1000/1000 [00:21<00:00, 45.62it/s]\n"
          ]
        },
        {
          "output_type": "display_data",
          "data": {
            "text/plain": [
              "<Figure size 200x200 with 1 Axes>"
            ],
            "image/png": "[encoded data removed]"
          },
          "metadata": {}
        },
        {
          "output_type": "stream",
          "name": "stderr",
          "text": [
            "Epoch 80:   0%|                               | 0/125 [00:00<?, ?it/s]/tmp/ipython-input-35-589666343.py:19: FutureWarning: `torch.cuda.amp.autocast(args...)` is deprecated. Please use `torch.amp.autocast('cuda', args...)` instead.\n",
            "  with autocast(enabled=True):\n",
            "Epoch 80: 100%|█████████| 125/125 [00:35<00:00,  3.52it/s, loss=0.113]\n",
            "Epoch 81: 100%|█████████| 125/125 [00:35<00:00,  3.51it/s, loss=0.114]\n",
            "Epoch 82: 100%|█████████| 125/125 [00:35<00:00,  3.53it/s, loss=0.117]\n",
            "Epoch 83: 100%|█████████| 125/125 [00:34<00:00,  3.59it/s, loss=0.115]\n",
            "Epoch 84: 100%|█████████| 125/125 [00:35<00:00,  3.53it/s, loss=0.115]\n",
            "Epoch 85: 100%|█████████| 125/125 [00:35<00:00,  3.53it/s, loss=0.112]\n",
            "Epoch 86: 100%|█████████| 125/125 [00:35<00:00,  3.55it/s, loss=0.118]\n",
            "Epoch 87: 100%|██████████| 125/125 [00:34<00:00,  3.60it/s, loss=0.12]\n",
            "Epoch 88: 100%|█████████| 125/125 [00:35<00:00,  3.53it/s, loss=0.116]\n",
            "Epoch 89: 100%|█████████| 125/125 [00:35<00:00,  3.53it/s, loss=0.115]\n",
            "Epoch 90: 100%|█████████| 125/125 [00:35<00:00,  3.56it/s, loss=0.115]\n",
            "Epoch 91: 100%|█████████| 125/125 [00:34<00:00,  3.58it/s, loss=0.115]\n",
            "Epoch 92: 100%|█████████| 125/125 [00:35<00:00,  3.52it/s, loss=0.114]\n",
            "Epoch 93: 100%|█████████| 125/125 [00:35<00:00,  3.56it/s, loss=0.114]\n",
            "Epoch 94: 100%|█████████| 125/125 [00:34<00:00,  3.59it/s, loss=0.118]\n",
            "Epoch 95: 100%|█████████| 125/125 [00:34<00:00,  3.61it/s, loss=0.119]\n",
            "Epoch 96: 100%|█████████| 125/125 [00:35<00:00,  3.55it/s, loss=0.114]\n",
            "Epoch 97: 100%|█████████| 125/125 [00:35<00:00,  3.53it/s, loss=0.113]\n",
            "Epoch 98: 100%|█████████| 125/125 [00:35<00:00,  3.51it/s, loss=0.116]\n",
            "Epoch 99: 100%|█████████| 125/125 [00:34<00:00,  3.62it/s, loss=0.114]\n",
            "Epoch 100: 100%|████████| 125/125 [00:35<00:00,  3.50it/s, loss=0.115]\n",
            "Epoch 101: 100%|████████| 125/125 [00:35<00:00,  3.55it/s, loss=0.117]\n",
            "Epoch 102: 100%|████████| 125/125 [00:34<00:00,  3.60it/s, loss=0.115]\n",
            "Epoch 103: 100%|████████| 125/125 [00:35<00:00,  3.48it/s, loss=0.118]\n",
            "Epoch 104: 100%|████████| 125/125 [00:35<00:00,  3.53it/s, loss=0.115]\n",
            "Epoch 105: 100%|████████| 125/125 [00:35<00:00,  3.55it/s, loss=0.115]\n",
            "Epoch 106: 100%|████████| 125/125 [00:34<00:00,  3.61it/s, loss=0.116]\n",
            "Epoch 107: 100%|████████| 125/125 [00:35<00:00,  3.53it/s, loss=0.114]\n",
            "Epoch 108: 100%|████████| 125/125 [00:35<00:00,  3.56it/s, loss=0.111]\n",
            "Epoch 109: 100%|████████| 125/125 [00:34<00:00,  3.60it/s, loss=0.116]\n",
            "Epoch 110: 100%|████████| 125/125 [00:34<00:00,  3.61it/s, loss=0.117]\n",
            "Epoch 111: 100%|████████| 125/125 [00:35<00:00,  3.53it/s, loss=0.116]\n",
            "Epoch 112: 100%|████████| 125/125 [00:35<00:00,  3.54it/s, loss=0.117]\n",
            "Epoch 113: 100%|████████| 125/125 [00:34<00:00,  3.60it/s, loss=0.116]\n",
            "Epoch 114: 100%|████████| 125/125 [00:35<00:00,  3.56it/s, loss=0.115]\n",
            "Epoch 115: 100%|████████| 125/125 [00:35<00:00,  3.53it/s, loss=0.113]\n",
            "Epoch 116: 100%|████████| 125/125 [00:35<00:00,  3.52it/s, loss=0.115]\n",
            "Epoch 117: 100%|████████| 125/125 [00:34<00:00,  3.60it/s, loss=0.114]\n",
            "Epoch 118: 100%|████████| 125/125 [00:35<00:00,  3.53it/s, loss=0.112]\n",
            "Epoch 119: 100%|████████| 125/125 [00:35<00:00,  3.50it/s, loss=0.114]\n",
            "/tmp/ipython-input-35-589666343.py:45: FutureWarning: `torch.cuda.amp.autocast(args...)` is deprecated. Please use `torch.amp.autocast('cuda', args...)` instead.\n",
            "  with autocast(enabled=True):\n",
            "/tmp/ipython-input-35-589666343.py:72: FutureWarning: `torch.cuda.amp.autocast(args...)` is deprecated. Please use `torch.amp.autocast('cuda', args...)` instead.\n",
            "  with autocast(enabled=True):\n"
          ]
        },
        {
          "output_type": "stream",
          "name": "stdout",
          "text": [
            "Epoch 119 val loss: 0.1147\n"
          ]
        },
        {
          "output_type": "stream",
          "name": "stderr",
          "text": [
            "100%|██████████| 1000/1000 [00:22<00:00, 44.60it/s]\n"
          ]
        },
        {
          "output_type": "display_data",
          "data": {
            "text/plain": [
              "<Figure size 200x200 with 1 Axes>"
            ],
            "image/png": "[encoded data removed]"
          },
          "metadata": {}
        },
        {
          "output_type": "stream",
          "name": "stderr",
          "text": [
            "Epoch 120:   0%|                              | 0/125 [00:00<?, ?it/s]/tmp/ipython-input-35-589666343.py:19: FutureWarning: `torch.cuda.amp.autocast(args...)` is deprecated. Please use `torch.amp.autocast('cuda', args...)` instead.\n",
            "  with autocast(enabled=True):\n",
            "Epoch 120: 100%|████████| 125/125 [00:35<00:00,  3.52it/s, loss=0.116]\n",
            "Epoch 121: 100%|████████| 125/125 [00:34<00:00,  3.61it/s, loss=0.114]\n",
            "Epoch 122: 100%|████████| 125/125 [00:35<00:00,  3.52it/s, loss=0.114]\n",
            "Epoch 123: 100%|████████| 125/125 [00:35<00:00,  3.53it/s, loss=0.114]\n",
            "Epoch 124: 100%|████████| 125/125 [00:35<00:00,  3.54it/s, loss=0.113]\n",
            "Epoch 125: 100%|████████| 125/125 [00:34<00:00,  3.58it/s, loss=0.117]\n",
            "Epoch 126: 100%|████████| 125/125 [00:35<00:00,  3.50it/s, loss=0.117]\n",
            "Epoch 127: 100%|████████| 125/125 [00:35<00:00,  3.51it/s, loss=0.115]\n",
            "Epoch 128: 100%|████████| 125/125 [00:35<00:00,  3.48it/s, loss=0.119]\n",
            "Epoch 129: 100%|████████| 125/125 [00:35<00:00,  3.52it/s, loss=0.117]\n",
            "Epoch 130: 100%|████████| 125/125 [00:35<00:00,  3.54it/s, loss=0.112]\n",
            "Epoch 131: 100%|████████| 125/125 [00:35<00:00,  3.51it/s, loss=0.108]\n",
            "Epoch 132: 100%|████████| 125/125 [00:35<00:00,  3.51it/s, loss=0.118]\n",
            "Epoch 133: 100%|████████| 125/125 [00:35<00:00,  3.57it/s, loss=0.115]\n",
            "Epoch 134: 100%|████████| 125/125 [00:35<00:00,  3.50it/s, loss=0.113]\n",
            "Epoch 135: 100%|████████| 125/125 [00:35<00:00,  3.52it/s, loss=0.114]\n",
            "Epoch 136: 100%|████████| 125/125 [00:35<00:00,  3.53it/s, loss=0.113]\n",
            "Epoch 137: 100%|████████| 125/125 [00:34<00:00,  3.59it/s, loss=0.117]\n",
            "Epoch 138: 100%|████████| 125/125 [00:35<00:00,  3.50it/s, loss=0.119]\n",
            "Epoch 139: 100%|█████████| 125/125 [00:35<00:00,  3.51it/s, loss=0.11]\n",
            "Epoch 140: 100%|████████| 125/125 [00:35<00:00,  3.54it/s, loss=0.112]\n",
            "Epoch 141: 100%|████████| 125/125 [00:35<00:00,  3.55it/s, loss=0.116]\n",
            "Epoch 142: 100%|████████| 125/125 [00:35<00:00,  3.50it/s, loss=0.113]\n",
            "Epoch 143: 100%|████████| 125/125 [00:35<00:00,  3.50it/s, loss=0.114]\n",
            "Epoch 144: 100%|████████| 125/125 [00:34<00:00,  3.58it/s, loss=0.114]\n",
            "Epoch 145: 100%|████████| 125/125 [00:34<00:00,  3.59it/s, loss=0.117]\n",
            "Epoch 146: 100%|████████| 125/125 [00:35<00:00,  3.52it/s, loss=0.116]\n",
            "Epoch 147: 100%|████████| 125/125 [00:35<00:00,  3.53it/s, loss=0.114]\n",
            "Epoch 148: 100%|████████| 125/125 [00:34<00:00,  3.57it/s, loss=0.111]\n",
            "Epoch 149: 100%|████████| 125/125 [00:35<00:00,  3.52it/s, loss=0.113]\n",
            "Epoch 150: 100%|████████| 125/125 [00:35<00:00,  3.51it/s, loss=0.114]\n",
            "Epoch 151: 100%|████████| 125/125 [00:35<00:00,  3.52it/s, loss=0.112]\n",
            "Epoch 152: 100%|████████| 125/125 [00:35<00:00,  3.57it/s, loss=0.118]\n",
            "Epoch 153: 100%|████████| 125/125 [00:35<00:00,  3.50it/s, loss=0.113]\n",
            "Epoch 154: 100%|████████| 125/125 [00:35<00:00,  3.53it/s, loss=0.111]\n",
            "Epoch 155: 100%|████████| 125/125 [00:35<00:00,  3.49it/s, loss=0.114]\n",
            "Epoch 156: 100%|████████| 125/125 [00:34<00:00,  3.58it/s, loss=0.111]\n",
            "Epoch 157: 100%|████████| 125/125 [00:35<00:00,  3.50it/s, loss=0.115]\n",
            "Epoch 158: 100%|████████| 125/125 [00:35<00:00,  3.50it/s, loss=0.114]\n",
            "Epoch 159: 100%|████████| 125/125 [00:35<00:00,  3.54it/s, loss=0.114]\n",
            "/tmp/ipython-input-35-589666343.py:45: FutureWarning: `torch.cuda.amp.autocast(args...)` is deprecated. Please use `torch.amp.autocast('cuda', args...)` instead.\n",
            "  with autocast(enabled=True):\n",
            "/tmp/ipython-input-35-589666343.py:72: FutureWarning: `torch.cuda.amp.autocast(args...)` is deprecated. Please use `torch.amp.autocast('cuda', args...)` instead.\n",
            "  with autocast(enabled=True):\n"
          ]
        },
        {
          "output_type": "stream",
          "name": "stdout",
          "text": [
            "Epoch 159 val loss: 0.1167\n"
          ]
        },
        {
          "output_type": "stream",
          "name": "stderr",
          "text": [
            "100%|██████████| 1000/1000 [00:22<00:00, 44.43it/s]\n"
          ]
        },
        {
          "output_type": "display_data",
          "data": {
            "text/plain": [
              "<Figure size 200x200 with 1 Axes>"
            ],
            "image/png": "[encoded data removed]"
          },
          "metadata": {}
        },
        {
          "output_type": "stream",
          "name": "stderr",
          "text": [
            "Epoch 160:   0%|                              | 0/125 [00:00<?, ?it/s]/tmp/ipython-input-35-589666343.py:19: FutureWarning: `torch.cuda.amp.autocast(args...)` is deprecated. Please use `torch.amp.autocast('cuda', args...)` instead.\n",
            "  with autocast(enabled=True):\n",
            "Epoch 160: 100%|████████| 125/125 [00:34<00:00,  3.61it/s, loss=0.114]\n",
            "Epoch 161: 100%|████████| 125/125 [00:35<00:00,  3.52it/s, loss=0.115]\n",
            "Epoch 162: 100%|████████| 125/125 [00:35<00:00,  3.52it/s, loss=0.113]\n",
            "Epoch 163: 100%|█████████| 125/125 [00:34<00:00,  3.59it/s, loss=0.11]\n",
            "Epoch 164: 100%|████████| 125/125 [00:34<00:00,  3.58it/s, loss=0.114]\n",
            "Epoch 165: 100%|████████| 125/125 [00:35<00:00,  3.52it/s, loss=0.112]\n",
            "Epoch 166: 100%|████████| 125/125 [00:35<00:00,  3.50it/s, loss=0.111]\n",
            "Epoch 167: 100%|████████| 125/125 [00:34<00:00,  3.58it/s, loss=0.113]\n",
            "Epoch 168: 100%|████████| 125/125 [00:35<00:00,  3.53it/s, loss=0.113]\n",
            "Epoch 169: 100%|████████| 125/125 [00:35<00:00,  3.53it/s, loss=0.111]\n",
            "Epoch 170: 100%|████████| 125/125 [00:35<00:00,  3.56it/s, loss=0.113]\n",
            "Epoch 171: 100%|████████| 125/125 [00:35<00:00,  3.56it/s, loss=0.109]\n",
            "Epoch 172: 100%|████████| 125/125 [00:35<00:00,  3.48it/s, loss=0.115]\n",
            "Epoch 173: 100%|████████| 125/125 [00:35<00:00,  3.52it/s, loss=0.112]\n",
            "Epoch 174: 100%|████████| 125/125 [00:35<00:00,  3.55it/s, loss=0.113]\n",
            "Epoch 175: 100%|████████| 125/125 [00:34<00:00,  3.59it/s, loss=0.111]\n",
            "Epoch 176: 100%|████████| 125/125 [00:35<00:00,  3.52it/s, loss=0.109]\n",
            "Epoch 177: 100%|████████| 125/125 [00:35<00:00,  3.53it/s, loss=0.112]\n",
            "Epoch 178: 100%|████████| 125/125 [00:34<00:00,  3.57it/s, loss=0.113]\n",
            "Epoch 179: 100%|████████| 125/125 [00:35<00:00,  3.55it/s, loss=0.115]\n",
            "Epoch 180: 100%|████████| 125/125 [00:35<00:00,  3.52it/s, loss=0.109]\n",
            "Epoch 181: 100%|████████| 125/125 [00:36<00:00,  3.47it/s, loss=0.113]\n",
            "Epoch 182: 100%|████████| 125/125 [00:34<00:00,  3.57it/s, loss=0.114]\n",
            "Epoch 183: 100%|████████| 125/125 [00:35<00:00,  3.50it/s, loss=0.111]\n",
            "Epoch 184: 100%|████████| 125/125 [00:35<00:00,  3.50it/s, loss=0.113]\n",
            "Epoch 185: 100%|████████| 125/125 [00:35<00:00,  3.52it/s, loss=0.111]\n",
            "Epoch 186: 100%|████████| 125/125 [00:35<00:00,  3.56it/s, loss=0.111]\n",
            "Epoch 187: 100%|████████| 125/125 [00:35<00:00,  3.52it/s, loss=0.115]\n",
            "Epoch 188: 100%|████████| 125/125 [00:35<00:00,  3.50it/s, loss=0.113]\n",
            "Epoch 189: 100%|████████| 125/125 [00:35<00:00,  3.55it/s, loss=0.113]\n",
            "Epoch 190: 100%|████████| 125/125 [00:35<00:00,  3.56it/s, loss=0.114]\n",
            "Epoch 191: 100%|████████| 125/125 [00:35<00:00,  3.48it/s, loss=0.108]\n",
            "Epoch 192: 100%|████████| 125/125 [00:35<00:00,  3.51it/s, loss=0.115]\n",
            "Epoch 193: 100%|████████| 125/125 [00:34<00:00,  3.58it/s, loss=0.111]\n",
            "Epoch 194: 100%|█████████| 125/125 [00:35<00:00,  3.57it/s, loss=0.11]\n",
            "Epoch 195: 100%|████████| 125/125 [00:35<00:00,  3.49it/s, loss=0.112]\n",
            "Epoch 196: 100%|█████████| 125/125 [00:35<00:00,  3.49it/s, loss=0.11]\n",
            "Epoch 197: 100%|████████| 125/125 [00:35<00:00,  3.55it/s, loss=0.111]\n",
            "Epoch 198: 100%|████████| 125/125 [00:35<00:00,  3.56it/s, loss=0.112]\n",
            "Epoch 199: 100%|████████| 125/125 [00:35<00:00,  3.51it/s, loss=0.107]\n",
            "/tmp/ipython-input-35-589666343.py:45: FutureWarning: `torch.cuda.amp.autocast(args...)` is deprecated. Please use `torch.amp.autocast('cuda', args...)` instead.\n",
            "  with autocast(enabled=True):\n",
            "/tmp/ipython-input-35-589666343.py:72: FutureWarning: `torch.cuda.amp.autocast(args...)` is deprecated. Please use `torch.amp.autocast('cuda', args...)` instead.\n",
            "  with autocast(enabled=True):\n"
          ]
        },
        {
          "output_type": "stream",
          "name": "stdout",
          "text": [
            "Epoch 199 val loss: 0.1140\n"
          ]
        },
        {
          "output_type": "stream",
          "name": "stderr",
          "text": [
            "100%|██████████| 1000/1000 [00:21<00:00, 45.90it/s]\n"
          ]
        },
        {
          "output_type": "display_data",
          "data": {
            "text/plain": [
              "<Figure size 200x200 with 1 Axes>"
            ],
            "image/png": "[encoded data removed]"
          },
          "metadata": {}
        }
      ]
    },
    {
      "cell_type": "markdown",
      "source": [
        "Learning Curves Plotting"
      ],
      "metadata": {
        "id": "awfK8DOxaOWz"
      }
    },
    {
      "cell_type": "code",
      "source": [
        "plt.figure()\n",
        "plt.title(\"Learning Curves\", fontsize=20)\n",
        "plt.plot(np.linspace(1, n_epochs, n_epochs), epoch_losses, linewidth=2.0, label=\"Train\")\n",
        "plt.plot(\n",
        "    np.linspace(val_interval, n_epochs, int(n_epochs / val_interval)), val_losses, linewidth=2.0, label=\"Validation\"\n",
        ")\n",
        "plt.yticks(fontsize=12)\n",
        "plt.xticks(fontsize=12)\n",
        "plt.xlabel(\"Epochs\", fontsize=16)\n",
        "plt.ylabel(\"Loss\", fontsize=16)\n",
        "plt.legend(prop={\"size\": 14})"
      ],
      "metadata": {
        "colab": {
          "base_uri": "https://localhost:8080/",
          "height": 662
        },
        "id": "ywyJLU3naRlq",
        "outputId": "747799c1-914d-40c8-c274-44a29e201389"
      },
      "execution_count": 3,
      "outputs": [
        {
          "output_type": "error",
          "ename": "NameError",
          "evalue": "name 'n_epochs' is not defined",
          "traceback": [
            "\u001b[0;31m---------------------------------------------------------------------------\u001b[0m",
            "\u001b[0;31mNameError\u001b[0m                                 Traceback (most recent call last)",
            "\u001b[0;32m/tmp/ipython-input-3-3490204035.py\u001b[0m in \u001b[0;36m<cell line: 0>\u001b[0;34m()\u001b[0m\n\u001b[1;32m      1\u001b[0m \u001b[0mplt\u001b[0m\u001b[0;34m.\u001b[0m\u001b[0mfigure\u001b[0m\u001b[0;34m(\u001b[0m\u001b[0;34m)\u001b[0m\u001b[0;34m\u001b[0m\u001b[0;34m\u001b[0m\u001b[0m\n\u001b[1;32m      2\u001b[0m \u001b[0mplt\u001b[0m\u001b[0;34m.\u001b[0m\u001b[0mtitle\u001b[0m\u001b[0;34m(\u001b[0m\u001b[0;34m\"Learning Curves\"\u001b[0m\u001b[0;34m,\u001b[0m \u001b[0mfontsize\u001b[0m\u001b[0;34m=\u001b[0m\u001b[0;36m20\u001b[0m\u001b[0;34m)\u001b[0m\u001b[0;34m\u001b[0m\u001b[0;34m\u001b[0m\u001b[0m\n\u001b[0;32m----> 3\u001b[0;31m \u001b[0mplt\u001b[0m\u001b[0;34m.\u001b[0m\u001b[0mplot\u001b[0m\u001b[0;34m(\u001b[0m\u001b[0mnp\u001b[0m\u001b[0;34m.\u001b[0m\u001b[0mlinspace\u001b[0m\u001b[0;34m(\u001b[0m\u001b[0;36m1\u001b[0m\u001b[0;34m,\u001b[0m \u001b[0mn_epochs\u001b[0m\u001b[0;34m,\u001b[0m \u001b[0mn_epochs\u001b[0m\u001b[0;34m)\u001b[0m\u001b[0;34m,\u001b[0m \u001b[0mepoch_losses\u001b[0m\u001b[0;34m,\u001b[0m \u001b[0mlinewidth\u001b[0m\u001b[0;34m=\u001b[0m\u001b[0;36m2.0\u001b[0m\u001b[0;34m,\u001b[0m \u001b[0mlabel\u001b[0m\u001b[0;34m=\u001b[0m\u001b[0;34m\"Train\"\u001b[0m\u001b[0;34m)\u001b[0m\u001b[0;34m\u001b[0m\u001b[0;34m\u001b[0m\u001b[0m\n\u001b[0m\u001b[1;32m      4\u001b[0m plt.plot(\n\u001b[1;32m      5\u001b[0m     \u001b[0mnp\u001b[0m\u001b[0;34m.\u001b[0m\u001b[0mlinspace\u001b[0m\u001b[0;34m(\u001b[0m\u001b[0mval_interval\u001b[0m\u001b[0;34m,\u001b[0m \u001b[0mn_epochs\u001b[0m\u001b[0;34m,\u001b[0m \u001b[0mint\u001b[0m\u001b[0;34m(\u001b[0m\u001b[0mn_epochs\u001b[0m \u001b[0;34m/\u001b[0m \u001b[0mval_interval\u001b[0m\u001b[0;34m)\u001b[0m\u001b[0;34m)\u001b[0m\u001b[0;34m,\u001b[0m \u001b[0mval_losses\u001b[0m\u001b[0;34m,\u001b[0m \u001b[0mlinewidth\u001b[0m\u001b[0;34m=\u001b[0m\u001b[0;36m2.0\u001b[0m\u001b[0;34m,\u001b[0m \u001b[0mlabel\u001b[0m\u001b[0;34m=\u001b[0m\u001b[0;34m\"Validation\"\u001b[0m\u001b[0;34m\u001b[0m\u001b[0;34m\u001b[0m\u001b[0m\n",
            "\u001b[0;31mNameError\u001b[0m: name 'n_epochs' is not defined"
          ]
        },
        {
          "output_type": "display_data",
          "data": {
            "text/plain": [
              "<Figure size 640x480 with 1 Axes>"
            ],
            "image/png": "[encoded data removed]"
          },
          "metadata": {}
        }
      ]
    }
  ]
}